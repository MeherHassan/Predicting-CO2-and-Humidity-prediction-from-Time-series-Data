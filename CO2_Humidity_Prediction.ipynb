{
 "cells": [
  {
   "cell_type": "code",
   "execution_count": 1,
   "id": "dominant-milwaukee",
   "metadata": {},
   "outputs": [],
   "source": [
    "import numpy as np\n",
    "import pandas as pd\n",
    "import matplotlib.pyplot as plt\n",
    "import time\n",
    "from sklearn.model_selection import train_test_split\n",
    "import tensorflow as tf\n",
    "from tensorflow.keras.layers import SimpleRNN, Dense, LSTM, Bidirectional\n",
    "from tensorflow.keras.callbacks import EarlyStopping"
   ]
  },
  {
   "cell_type": "code",
   "execution_count": 2,
   "id": "active-crime",
   "metadata": {},
   "outputs": [
    {
     "data": {
      "text/html": [
       "<div>\n",
       "<style scoped>\n",
       "    .dataframe tbody tr th:only-of-type {\n",
       "        vertical-align: middle;\n",
       "    }\n",
       "\n",
       "    .dataframe tbody tr th {\n",
       "        vertical-align: top;\n",
       "    }\n",
       "\n",
       "    .dataframe thead th {\n",
       "        text-align: right;\n",
       "    }\n",
       "</style>\n",
       "<table border=\"1\" class=\"dataframe\">\n",
       "  <thead>\n",
       "    <tr style=\"text-align: right;\">\n",
       "      <th></th>\n",
       "      <th>Temperature</th>\n",
       "      <th>Humidity</th>\n",
       "      <th>Light</th>\n",
       "      <th>CO2</th>\n",
       "      <th>HumidityRatio</th>\n",
       "      <th>Occupancy</th>\n",
       "    </tr>\n",
       "  </thead>\n",
       "  <tbody>\n",
       "    <tr>\n",
       "      <th>0</th>\n",
       "      <td>23.7000</td>\n",
       "      <td>26.272</td>\n",
       "      <td>585.200000</td>\n",
       "      <td>749.200000</td>\n",
       "      <td>0.004764</td>\n",
       "      <td>1</td>\n",
       "    </tr>\n",
       "    <tr>\n",
       "      <th>1</th>\n",
       "      <td>23.7180</td>\n",
       "      <td>26.290</td>\n",
       "      <td>578.400000</td>\n",
       "      <td>760.400000</td>\n",
       "      <td>0.004773</td>\n",
       "      <td>1</td>\n",
       "    </tr>\n",
       "    <tr>\n",
       "      <th>2</th>\n",
       "      <td>23.7300</td>\n",
       "      <td>26.230</td>\n",
       "      <td>572.666667</td>\n",
       "      <td>769.666667</td>\n",
       "      <td>0.004765</td>\n",
       "      <td>1</td>\n",
       "    </tr>\n",
       "    <tr>\n",
       "      <th>3</th>\n",
       "      <td>23.7225</td>\n",
       "      <td>26.125</td>\n",
       "      <td>493.750000</td>\n",
       "      <td>774.750000</td>\n",
       "      <td>0.004744</td>\n",
       "      <td>1</td>\n",
       "    </tr>\n",
       "    <tr>\n",
       "      <th>4</th>\n",
       "      <td>23.7540</td>\n",
       "      <td>26.200</td>\n",
       "      <td>488.600000</td>\n",
       "      <td>779.000000</td>\n",
       "      <td>0.004767</td>\n",
       "      <td>1</td>\n",
       "    </tr>\n",
       "  </tbody>\n",
       "</table>\n",
       "</div>"
      ],
      "text/plain": [
       "   Temperature  Humidity       Light         CO2  HumidityRatio  Occupancy\n",
       "0      23.7000    26.272  585.200000  749.200000       0.004764          1\n",
       "1      23.7180    26.290  578.400000  760.400000       0.004773          1\n",
       "2      23.7300    26.230  572.666667  769.666667       0.004765          1\n",
       "3      23.7225    26.125  493.750000  774.750000       0.004744          1\n",
       "4      23.7540    26.200  488.600000  779.000000       0.004767          1"
      ]
     },
     "execution_count": 2,
     "metadata": {},
     "output_type": "execute_result"
    }
   ],
   "source": [
    "#creating dataset\n",
    "\n",
    "df = pd.read_csv(\"file.csv\")\n",
    "df.head()"
   ]
  },
  {
   "cell_type": "code",
   "execution_count": 3,
   "id": "serious-ratio",
   "metadata": {},
   "outputs": [
    {
     "name": "stdout",
     "output_type": "stream",
     "text": [
      "dataset.shape: (2665, 6)\n"
     ]
    }
   ],
   "source": [
    "dataset = df.to_numpy()\n",
    "print('dataset.shape:', dataset.shape)"
   ]
  },
  {
   "cell_type": "code",
   "execution_count": 4,
   "id": "encouraging-seattle",
   "metadata": {},
   "outputs": [],
   "source": [
    "#Number of timesteps used for predicting the future time-steps\n",
    "N_days = 5\n",
    "\n",
    "#Number of future time-steps\n",
    "N_out = 4\n",
    "\n",
    "#Number of features\n",
    "N_features = 5"
   ]
  },
  {
   "cell_type": "code",
   "execution_count": 5,
   "id": "rubber-guyana",
   "metadata": {},
   "outputs": [],
   "source": [
    "ds_n = np.zeros((len(dataset) - (N_days + N_out) + 1, N_days*N_features+N_out))"
   ]
  },
  {
   "cell_type": "code",
   "execution_count": 6,
   "id": "interstate-computer",
   "metadata": {},
   "outputs": [],
   "source": [
    "for i in range(len(dataset) - (N_days + N_out) + 1):\n",
    "    for j in range(N_days):\n",
    "        ds_n[i, N_features*j:N_features*(j+1)] = dataset[i+j, 0 : 5]\n",
    "\n",
    "    ds_n[i, N_days*N_features] = dataset[i+N_days, 4]\n",
    "    ds_n[i, N_days*N_features+1] = dataset[i+N_days+1, 4]\n",
    "    ds_n[i, N_days*N_features+2] = dataset[i+N_days+2, 4]\n",
    "    \n",
    "    ds_n[i, N_days*N_features+3] = dataset[i+N_days+3, 4]"
   ]
  },
  {
   "cell_type": "code",
   "execution_count": 7,
   "id": "standing-issue",
   "metadata": {},
   "outputs": [
    {
     "data": {
      "text/plain": [
       "(2657, 29)"
      ]
     },
     "execution_count": 7,
     "metadata": {},
     "output_type": "execute_result"
    }
   ],
   "source": [
    "ds_n.shape"
   ]
  },
  {
   "cell_type": "code",
   "execution_count": 8,
   "id": "administrative-cycling",
   "metadata": {},
   "outputs": [
    {
     "name": "stdout",
     "output_type": "stream",
     "text": [
      "ds_train.shape, ds_test.shape: (1859, 29) (798, 29)\n"
     ]
    }
   ],
   "source": [
    "ds_train, ds_test = train_test_split(ds_n, test_size=0.3)\n",
    "print('ds_train.shape, ds_test.shape:', ds_train.shape, ds_test.shape)"
   ]
  },
  {
   "cell_type": "code",
   "execution_count": 9,
   "id": "bibliographic-copyright",
   "metadata": {},
   "outputs": [],
   "source": [
    "np.savetxt(\"train_data_RNN.csv\", ds_train, delimiter=\",\")\n",
    "np.savetxt(\"test_data_RNN.csv\", ds_test, delimiter=\",\")"
   ]
  },
  {
   "cell_type": "code",
   "execution_count": 10,
   "id": "unable-trauma",
   "metadata": {},
   "outputs": [],
   "source": [
    "ds_test = pd.read_csv(\"test_data_RNN.csv\")"
   ]
  },
  {
   "cell_type": "code",
   "execution_count": 11,
   "id": "earned-fifth",
   "metadata": {},
   "outputs": [
    {
     "data": {
      "text/html": [
       "<div>\n",
       "<style scoped>\n",
       "    .dataframe tbody tr th:only-of-type {\n",
       "        vertical-align: middle;\n",
       "    }\n",
       "\n",
       "    .dataframe tbody tr th {\n",
       "        vertical-align: top;\n",
       "    }\n",
       "\n",
       "    .dataframe thead th {\n",
       "        text-align: right;\n",
       "    }\n",
       "</style>\n",
       "<table border=\"1\" class=\"dataframe\">\n",
       "  <thead>\n",
       "    <tr style=\"text-align: right;\">\n",
       "      <th></th>\n",
       "      <th>2.047800000000000153e+01</th>\n",
       "      <th>2.237000000000000099e+01</th>\n",
       "      <th>0.000000000000000000e+00</th>\n",
       "      <th>4.356000000000000227e+02</th>\n",
       "      <th>3.325549045892899850e-03</th>\n",
       "      <th>2.045599999999999952e+01</th>\n",
       "      <th>2.235000000000000142e+01</th>\n",
       "      <th>0.000000000000000000e+00.1</th>\n",
       "      <th>4.330000000000000000e+02</th>\n",
       "      <th>3.318027352347600184e-03</th>\n",
       "      <th>...</th>\n",
       "      <th>3.333084430714899991e-03</th>\n",
       "      <th>2.042666666666669428e+01</th>\n",
       "      <th>2.232333333333330572e+01</th>\n",
       "      <th>0.000000000000000000e+00.4</th>\n",
       "      <th>4.360000000000000000e+02</th>\n",
       "      <th>3.308019689135399937e-03</th>\n",
       "      <th>3.333084430714899991e-03.1</th>\n",
       "      <th>3.328837093719499898e-03.1</th>\n",
       "      <th>3.308019689135399937e-03.1</th>\n",
       "      <th>3.316436378515800164e-03</th>\n",
       "    </tr>\n",
       "  </thead>\n",
       "  <tbody>\n",
       "    <tr>\n",
       "      <th>0</th>\n",
       "      <td>22.68</td>\n",
       "      <td>30.870000</td>\n",
       "      <td>433.000000</td>\n",
       "      <td>1316.666667</td>\n",
       "      <td>0.005267</td>\n",
       "      <td>22.700</td>\n",
       "      <td>30.890000</td>\n",
       "      <td>433.000000</td>\n",
       "      <td>1306.333333</td>\n",
       "      <td>0.005277</td>\n",
       "      <td>...</td>\n",
       "      <td>0.005241</td>\n",
       "      <td>22.675</td>\n",
       "      <td>30.745000</td>\n",
       "      <td>424.6</td>\n",
       "      <td>1298.200000</td>\n",
       "      <td>0.005244</td>\n",
       "      <td>0.005256</td>\n",
       "      <td>0.005241</td>\n",
       "      <td>0.005245</td>\n",
       "      <td>0.005220</td>\n",
       "    </tr>\n",
       "    <tr>\n",
       "      <th>1</th>\n",
       "      <td>23.00</td>\n",
       "      <td>30.000000</td>\n",
       "      <td>464.000000</td>\n",
       "      <td>1261.000000</td>\n",
       "      <td>0.005219</td>\n",
       "      <td>23.000</td>\n",
       "      <td>30.016667</td>\n",
       "      <td>462.333333</td>\n",
       "      <td>1263.666667</td>\n",
       "      <td>0.005222</td>\n",
       "      <td>...</td>\n",
       "      <td>0.005232</td>\n",
       "      <td>23.000</td>\n",
       "      <td>30.120000</td>\n",
       "      <td>461.0</td>\n",
       "      <td>1280.200000</td>\n",
       "      <td>0.005240</td>\n",
       "      <td>0.005245</td>\n",
       "      <td>0.005259</td>\n",
       "      <td>0.005270</td>\n",
       "      <td>0.005262</td>\n",
       "    </tr>\n",
       "    <tr>\n",
       "      <th>2</th>\n",
       "      <td>22.16</td>\n",
       "      <td>27.956000</td>\n",
       "      <td>556.400000</td>\n",
       "      <td>1173.800000</td>\n",
       "      <td>0.004617</td>\n",
       "      <td>22.200</td>\n",
       "      <td>27.917500</td>\n",
       "      <td>555.000000</td>\n",
       "      <td>1170.750000</td>\n",
       "      <td>0.004622</td>\n",
       "      <td>...</td>\n",
       "      <td>0.004599</td>\n",
       "      <td>22.200</td>\n",
       "      <td>27.823333</td>\n",
       "      <td>555.0</td>\n",
       "      <td>1160.833333</td>\n",
       "      <td>0.004606</td>\n",
       "      <td>0.004601</td>\n",
       "      <td>0.004601</td>\n",
       "      <td>0.004598</td>\n",
       "      <td>0.004589</td>\n",
       "    </tr>\n",
       "    <tr>\n",
       "      <th>3</th>\n",
       "      <td>20.29</td>\n",
       "      <td>22.856667</td>\n",
       "      <td>413.666667</td>\n",
       "      <td>442.666667</td>\n",
       "      <td>0.003359</td>\n",
       "      <td>20.290</td>\n",
       "      <td>22.956000</td>\n",
       "      <td>433.000000</td>\n",
       "      <td>445.600000</td>\n",
       "      <td>0.003374</td>\n",
       "      <td>...</td>\n",
       "      <td>0.003400</td>\n",
       "      <td>20.290</td>\n",
       "      <td>23.200000</td>\n",
       "      <td>419.0</td>\n",
       "      <td>470.400000</td>\n",
       "      <td>0.003410</td>\n",
       "      <td>0.003414</td>\n",
       "      <td>0.003414</td>\n",
       "      <td>0.003418</td>\n",
       "      <td>0.003431</td>\n",
       "    </tr>\n",
       "    <tr>\n",
       "      <th>4</th>\n",
       "      <td>20.29</td>\n",
       "      <td>22.700000</td>\n",
       "      <td>0.000000</td>\n",
       "      <td>432.250000</td>\n",
       "      <td>0.003336</td>\n",
       "      <td>20.272</td>\n",
       "      <td>22.680000</td>\n",
       "      <td>0.000000</td>\n",
       "      <td>437.000000</td>\n",
       "      <td>0.003329</td>\n",
       "      <td>...</td>\n",
       "      <td>0.003336</td>\n",
       "      <td>20.290</td>\n",
       "      <td>22.700000</td>\n",
       "      <td>0.0</td>\n",
       "      <td>436.000000</td>\n",
       "      <td>0.003336</td>\n",
       "      <td>0.003336</td>\n",
       "      <td>0.003336</td>\n",
       "      <td>0.003336</td>\n",
       "      <td>0.003336</td>\n",
       "    </tr>\n",
       "  </tbody>\n",
       "</table>\n",
       "<p>5 rows × 29 columns</p>\n",
       "</div>"
      ],
      "text/plain": [
       "   2.047800000000000153e+01  2.237000000000000099e+01  \\\n",
       "0                     22.68                 30.870000   \n",
       "1                     23.00                 30.000000   \n",
       "2                     22.16                 27.956000   \n",
       "3                     20.29                 22.856667   \n",
       "4                     20.29                 22.700000   \n",
       "\n",
       "   0.000000000000000000e+00  4.356000000000000227e+02  \\\n",
       "0                433.000000               1316.666667   \n",
       "1                464.000000               1261.000000   \n",
       "2                556.400000               1173.800000   \n",
       "3                413.666667                442.666667   \n",
       "4                  0.000000                432.250000   \n",
       "\n",
       "   3.325549045892899850e-03  2.045599999999999952e+01  \\\n",
       "0                  0.005267                    22.700   \n",
       "1                  0.005219                    23.000   \n",
       "2                  0.004617                    22.200   \n",
       "3                  0.003359                    20.290   \n",
       "4                  0.003336                    20.272   \n",
       "\n",
       "   2.235000000000000142e+01  0.000000000000000000e+00.1  \\\n",
       "0                 30.890000                  433.000000   \n",
       "1                 30.016667                  462.333333   \n",
       "2                 27.917500                  555.000000   \n",
       "3                 22.956000                  433.000000   \n",
       "4                 22.680000                    0.000000   \n",
       "\n",
       "   4.330000000000000000e+02  3.318027352347600184e-03  ...  \\\n",
       "0               1306.333333                  0.005277  ...   \n",
       "1               1263.666667                  0.005222  ...   \n",
       "2               1170.750000                  0.004622  ...   \n",
       "3                445.600000                  0.003374  ...   \n",
       "4                437.000000                  0.003329  ...   \n",
       "\n",
       "   3.333084430714899991e-03  2.042666666666669428e+01  \\\n",
       "0                  0.005241                    22.675   \n",
       "1                  0.005232                    23.000   \n",
       "2                  0.004599                    22.200   \n",
       "3                  0.003400                    20.290   \n",
       "4                  0.003336                    20.290   \n",
       "\n",
       "   2.232333333333330572e+01  0.000000000000000000e+00.4  \\\n",
       "0                 30.745000                       424.6   \n",
       "1                 30.120000                       461.0   \n",
       "2                 27.823333                       555.0   \n",
       "3                 23.200000                       419.0   \n",
       "4                 22.700000                         0.0   \n",
       "\n",
       "   4.360000000000000000e+02  3.308019689135399937e-03  \\\n",
       "0               1298.200000                  0.005244   \n",
       "1               1280.200000                  0.005240   \n",
       "2               1160.833333                  0.004606   \n",
       "3                470.400000                  0.003410   \n",
       "4                436.000000                  0.003336   \n",
       "\n",
       "   3.333084430714899991e-03.1  3.328837093719499898e-03.1  \\\n",
       "0                    0.005256                    0.005241   \n",
       "1                    0.005245                    0.005259   \n",
       "2                    0.004601                    0.004601   \n",
       "3                    0.003414                    0.003414   \n",
       "4                    0.003336                    0.003336   \n",
       "\n",
       "   3.308019689135399937e-03.1  3.316436378515800164e-03  \n",
       "0                    0.005245                  0.005220  \n",
       "1                    0.005270                  0.005262  \n",
       "2                    0.004598                  0.004589  \n",
       "3                    0.003418                  0.003431  \n",
       "4                    0.003336                  0.003336  \n",
       "\n",
       "[5 rows x 29 columns]"
      ]
     },
     "execution_count": 11,
     "metadata": {},
     "output_type": "execute_result"
    }
   ],
   "source": [
    "ds_test.head(5)"
   ]
  },
  {
   "cell_type": "code",
   "execution_count": 12,
   "id": "perceived-jamaica",
   "metadata": {},
   "outputs": [],
   "source": [
    "#loading training data\n",
    "ds_train = pd.read_csv(\"train_data_RNN.csv\", header=None).to_numpy()\n",
    "X_train, y_train = ds_train[:, :-4], ds_train[:, -4:]\n",
    "X_train = X_train.reshape((len(X_train), N_days, N_features))"
   ]
  },
  {
   "cell_type": "code",
   "execution_count": 13,
   "id": "cellular-integer",
   "metadata": {},
   "outputs": [
    {
     "data": {
      "text/plain": [
       "(1859, 5, 5)"
      ]
     },
     "execution_count": 13,
     "metadata": {},
     "output_type": "execute_result"
    }
   ],
   "source": [
    "X_train.shape"
   ]
  },
  {
   "cell_type": "code",
   "execution_count": 14,
   "id": "anonymous-profile",
   "metadata": {},
   "outputs": [],
   "source": [
    "normalizer = tf.keras.layers.experimental.preprocessing.Normalization()\n",
    "normalizer.adapt(X_train)"
   ]
  },
  {
   "cell_type": "code",
   "execution_count": 15,
   "id": "institutional-handling",
   "metadata": {},
   "outputs": [],
   "source": [
    "earlyStopping = EarlyStopping(monitor='val_loss', patience=20, verbose=0, mode='min')"
   ]
  },
  {
   "cell_type": "code",
   "execution_count": 16,
   "id": "opposed-glass",
   "metadata": {},
   "outputs": [],
   "source": [
    "def runModel(model):\n",
    "    model.summary()\n",
    "    model.compile(loss='mse', optimizer='Adam', metrics=['mse','mae'])\n",
    "    history = model.fit(X_train, y_train, epochs=100, batch_size=32, validation_split=0.15, callbacks=[earlyStopping])\n",
    "    return history"
   ]
  },
  {
   "cell_type": "code",
   "execution_count": 17,
   "id": "welsh-lafayette",
   "metadata": {},
   "outputs": [
    {
     "data": {
      "text/plain": [
       "(5, 5)"
      ]
     },
     "execution_count": 17,
     "metadata": {},
     "output_type": "execute_result"
    }
   ],
   "source": [
    "X_train.shape[1:]"
   ]
  },
  {
   "cell_type": "markdown",
   "id": "demographic-decline",
   "metadata": {},
   "source": [
    "# RNN"
   ]
  },
  {
   "cell_type": "code",
   "execution_count": 40,
   "id": "improving-embassy",
   "metadata": {},
   "outputs": [
    {
     "name": "stdout",
     "output_type": "stream",
     "text": [
      "Model: \"model_3\"\n",
      "_________________________________________________________________\n",
      "Layer (type)                 Output Shape              Param #   \n",
      "=================================================================\n",
      "input_4 (InputLayer)         [(None, 5, 5)]            0         \n",
      "_________________________________________________________________\n",
      "normalization (Normalization (None, 5, 5)              11        \n",
      "_________________________________________________________________\n",
      "simple_rnn_3 (SimpleRNN)     (None, 32)                1216      \n",
      "_________________________________________________________________\n",
      "dense_5 (Dense)              (None, 4)                 132       \n",
      "=================================================================\n",
      "Total params: 1,359\n",
      "Trainable params: 1,348\n",
      "Non-trainable params: 11\n",
      "_________________________________________________________________\n",
      "Train on 1580 samples, validate on 279 samples\n",
      "Epoch 1/100\n",
      "1580/1580 [==============================] - 3s 2ms/sample - loss: 0.1156 - mse: 0.1156 - mae: 0.2159 - val_loss: 0.0089 - val_mse: 0.0089 - val_mae: 0.0647\n",
      "Epoch 2/100\n",
      "1580/1580 [==============================] - 0s 146us/sample - loss: 0.0060 - mse: 0.0060 - mae: 0.0534 - val_loss: 0.0035 - val_mse: 0.0035 - val_mae: 0.0420\n",
      "Epoch 3/100\n",
      "1580/1580 [==============================] - 0s 182us/sample - loss: 0.0029 - mse: 0.0029 - mae: 0.0378 - val_loss: 0.0019 - val_mse: 0.0019 - val_mae: 0.0305\n",
      "Epoch 4/100\n",
      "1580/1580 [==============================] - 0s 176us/sample - loss: 0.0017 - mse: 0.0017 - mae: 0.0291 - val_loss: 0.0012 - val_mse: 0.0012 - val_mae: 0.0247\n",
      "Epoch 5/100\n",
      "1580/1580 [==============================] - 0s 169us/sample - loss: 0.0012 - mse: 0.0012 - mae: 0.0243 - val_loss: 9.9973e-04 - val_mse: 9.9973e-04 - val_mae: 0.0218\n",
      "Epoch 6/100\n",
      "1580/1580 [==============================] - 0s 181us/sample - loss: 9.2044e-04 - mse: 9.2044e-04 - mae: 0.0211 - val_loss: 7.4291e-04 - val_mse: 7.4291e-04 - val_mae: 0.0183\n",
      "Epoch 7/100\n",
      "1580/1580 [==============================] - 0s 188us/sample - loss: 7.5164e-04 - mse: 7.5164e-04 - mae: 0.0187 - val_loss: 6.8071e-04 - val_mse: 6.8071e-04 - val_mae: 0.0172\n",
      "Epoch 8/100\n",
      "1580/1580 [==============================] - 0s 169us/sample - loss: 6.4256e-04 - mse: 6.4256e-04 - mae: 0.0169 - val_loss: 5.8285e-04 - val_mse: 5.8285e-04 - val_mae: 0.0152\n",
      "Epoch 9/100\n",
      "1580/1580 [==============================] - 0s 135us/sample - loss: 5.6074e-04 - mse: 5.6074e-04 - mae: 0.0155 - val_loss: 5.3539e-04 - val_mse: 5.3539e-04 - val_mae: 0.0143\n",
      "Epoch 10/100\n",
      "1580/1580 [==============================] - 0s 137us/sample - loss: 5.1254e-04 - mse: 5.1254e-04 - mae: 0.0148 - val_loss: 4.7065e-04 - val_mse: 4.7065e-04 - val_mae: 0.0133\n",
      "Epoch 11/100\n",
      "1580/1580 [==============================] - 0s 151us/sample - loss: 4.6863e-04 - mse: 4.6863e-04 - mae: 0.0140 - val_loss: 4.4649e-04 - val_mse: 4.4649e-04 - val_mae: 0.0127\n",
      "Epoch 12/100\n",
      "1580/1580 [==============================] - 0s 142us/sample - loss: 4.3157e-04 - mse: 4.3157e-04 - mae: 0.0133 - val_loss: 4.3018e-04 - val_mse: 4.3018e-04 - val_mae: 0.0124\n",
      "Epoch 13/100\n",
      "1580/1580 [==============================] - 0s 132us/sample - loss: 4.0801e-04 - mse: 4.0801e-04 - mae: 0.0129 - val_loss: 4.1816e-04 - val_mse: 4.1816e-04 - val_mae: 0.0119\n",
      "Epoch 14/100\n",
      "1580/1580 [==============================] - 0s 133us/sample - loss: 3.7671e-04 - mse: 3.7671e-04 - mae: 0.0124 - val_loss: 3.9904e-04 - val_mse: 3.9904e-04 - val_mae: 0.0116\n",
      "Epoch 15/100\n",
      "1580/1580 [==============================] - 0s 154us/sample - loss: 3.5338e-04 - mse: 3.5338e-04 - mae: 0.0121 - val_loss: 3.7878e-04 - val_mse: 3.7878e-04 - val_mae: 0.0111\n",
      "Epoch 16/100\n",
      "1580/1580 [==============================] - 0s 137us/sample - loss: 3.3794e-04 - mse: 3.3794e-04 - mae: 0.0118 - val_loss: 3.7630e-04 - val_mse: 3.7630e-04 - val_mae: 0.0111\n",
      "Epoch 17/100\n",
      "1580/1580 [==============================] - 0s 133us/sample - loss: 3.1105e-04 - mse: 3.1105e-04 - mae: 0.0112 - val_loss: 3.2949e-04 - val_mse: 3.2949e-04 - val_mae: 0.0103\n",
      "Epoch 18/100\n",
      "1580/1580 [==============================] - 0s 119us/sample - loss: 2.9851e-04 - mse: 2.9851e-04 - mae: 0.0111 - val_loss: 3.1893e-04 - val_mse: 3.1893e-04 - val_mae: 0.0100\n",
      "Epoch 19/100\n",
      "1580/1580 [==============================] - 0s 163us/sample - loss: 2.7918e-04 - mse: 2.7918e-04 - mae: 0.0107 - val_loss: 3.1167e-04 - val_mse: 3.1167e-04 - val_mae: 0.0100\n",
      "Epoch 20/100\n",
      "1580/1580 [==============================] - 0s 153us/sample - loss: 2.7044e-04 - mse: 2.7044e-04 - mae: 0.0107 - val_loss: 3.0594e-04 - val_mse: 3.0594e-04 - val_mae: 0.0103\n",
      "Epoch 21/100\n",
      "1580/1580 [==============================] - 0s 148us/sample - loss: 2.5444e-04 - mse: 2.5444e-04 - mae: 0.0102 - val_loss: 2.9386e-04 - val_mse: 2.9386e-04 - val_mae: 0.0100\n",
      "Epoch 22/100\n",
      "1580/1580 [==============================] - 0s 123us/sample - loss: 2.3830e-04 - mse: 2.3830e-04 - mae: 0.0099 - val_loss: 2.7798e-04 - val_mse: 2.7798e-04 - val_mae: 0.0093\n",
      "Epoch 23/100\n",
      "1580/1580 [==============================] - 0s 127us/sample - loss: 2.2437e-04 - mse: 2.2437e-04 - mae: 0.0095 - val_loss: 2.6381e-04 - val_mse: 2.6381e-04 - val_mae: 0.0093\n",
      "Epoch 24/100\n",
      "1580/1580 [==============================] - 0s 137us/sample - loss: 2.1412e-04 - mse: 2.1412e-04 - mae: 0.0094 - val_loss: 2.6334e-04 - val_mse: 2.6334e-04 - val_mae: 0.0094\n",
      "Epoch 25/100\n",
      "1580/1580 [==============================] - 0s 147us/sample - loss: 2.0997e-04 - mse: 2.0997e-04 - mae: 0.0094 - val_loss: 2.3964e-04 - val_mse: 2.3964e-04 - val_mae: 0.0087\n",
      "Epoch 26/100\n",
      "1580/1580 [==============================] - 0s 137us/sample - loss: 1.9821e-04 - mse: 1.9821e-04 - mae: 0.0091 - val_loss: 2.3982e-04 - val_mse: 2.3982e-04 - val_mae: 0.0087\n",
      "Epoch 27/100\n",
      "1580/1580 [==============================] - 0s 157us/sample - loss: 1.9502e-04 - mse: 1.9502e-04 - mae: 0.0091 - val_loss: 2.2669e-04 - val_mse: 2.2669e-04 - val_mae: 0.0087\n",
      "Epoch 28/100\n",
      "1580/1580 [==============================] - 0s 142us/sample - loss: 1.8640e-04 - mse: 1.8640e-04 - mae: 0.0090 - val_loss: 2.1834e-04 - val_mse: 2.1834e-04 - val_mae: 0.0082\n",
      "Epoch 29/100\n",
      "1580/1580 [==============================] - 0s 160us/sample - loss: 1.8116e-04 - mse: 1.8116e-04 - mae: 0.0089 - val_loss: 2.0686e-04 - val_mse: 2.0686e-04 - val_mae: 0.0082\n",
      "Epoch 30/100\n",
      "1580/1580 [==============================] - 0s 158us/sample - loss: 1.6600e-04 - mse: 1.6600e-04 - mae: 0.0084 - val_loss: 2.0797e-04 - val_mse: 2.0797e-04 - val_mae: 0.0080\n",
      "Epoch 31/100\n",
      "1580/1580 [==============================] - 0s 140us/sample - loss: 1.6054e-04 - mse: 1.6054e-04 - mae: 0.0083 - val_loss: 2.0625e-04 - val_mse: 2.0625e-04 - val_mae: 0.0080\n",
      "Epoch 32/100\n",
      "1580/1580 [==============================] - 0s 133us/sample - loss: 1.5854e-04 - mse: 1.5854e-04 - mae: 0.0084 - val_loss: 1.9733e-04 - val_mse: 1.9733e-04 - val_mae: 0.0080\n",
      "Epoch 33/100\n",
      "1580/1580 [==============================] - 0s 131us/sample - loss: 1.5176e-04 - mse: 1.5176e-04 - mae: 0.0082 - val_loss: 2.1616e-04 - val_mse: 2.1616e-04 - val_mae: 0.0090\n",
      "Epoch 34/100\n",
      "1580/1580 [==============================] - 0s 134us/sample - loss: 1.4590e-04 - mse: 1.4590e-04 - mae: 0.0080 - val_loss: 1.7720e-04 - val_mse: 1.7720e-04 - val_mae: 0.0073\n",
      "Epoch 35/100\n",
      "1580/1580 [==============================] - 0s 144us/sample - loss: 1.3875e-04 - mse: 1.3875e-04 - mae: 0.0078 - val_loss: 2.1124e-04 - val_mse: 2.1124e-04 - val_mae: 0.0089\n",
      "Epoch 36/100\n",
      "1580/1580 [==============================] - 0s 142us/sample - loss: 1.3618e-04 - mse: 1.3618e-04 - mae: 0.0078 - val_loss: 1.7923e-04 - val_mse: 1.7923e-04 - val_mae: 0.0078\n",
      "Epoch 37/100\n",
      "1580/1580 [==============================] - 0s 148us/sample - loss: 1.3292e-04 - mse: 1.3292e-04 - mae: 0.0078 - val_loss: 1.6670e-04 - val_mse: 1.6670e-04 - val_mae: 0.0073\n",
      "Epoch 38/100\n",
      "1580/1580 [==============================] - 0s 148us/sample - loss: 1.2880e-04 - mse: 1.2880e-04 - mae: 0.0077 - val_loss: 1.9502e-04 - val_mse: 1.9502e-04 - val_mae: 0.0087\n",
      "Epoch 39/100\n",
      "1580/1580 [==============================] - 0s 180us/sample - loss: 1.2225e-04 - mse: 1.2225e-04 - mae: 0.0074 - val_loss: 1.5649e-04 - val_mse: 1.5649e-04 - val_mae: 0.0068\n",
      "Epoch 40/100\n"
     ]
    },
    {
     "name": "stdout",
     "output_type": "stream",
     "text": [
      "1580/1580 [==============================] - 0s 190us/sample - loss: 1.1962e-04 - mse: 1.1962e-04 - mae: 0.0074 - val_loss: 1.5214e-04 - val_mse: 1.5214e-04 - val_mae: 0.0067\n",
      "Epoch 41/100\n",
      "1580/1580 [==============================] - 0s 211us/sample - loss: 1.0933e-04 - mse: 1.0933e-04 - mae: 0.0069 - val_loss: 1.4841e-04 - val_mse: 1.4841e-04 - val_mae: 0.0066\n",
      "Epoch 42/100\n",
      "1580/1580 [==============================] - 0s 190us/sample - loss: 1.0817e-04 - mse: 1.0817e-04 - mae: 0.0070 - val_loss: 1.4874e-04 - val_mse: 1.4874e-04 - val_mae: 0.0065\n",
      "Epoch 43/100\n",
      "1580/1580 [==============================] - 0s 190us/sample - loss: 1.0601e-04 - mse: 1.0601e-04 - mae: 0.0070 - val_loss: 1.4922e-04 - val_mse: 1.4922e-04 - val_mae: 0.0066\n",
      "Epoch 44/100\n",
      "1580/1580 [==============================] - 0s 179us/sample - loss: 9.7762e-05 - mse: 9.7762e-05 - mae: 0.0066 - val_loss: 1.4314e-04 - val_mse: 1.4314e-04 - val_mae: 0.0066\n",
      "Epoch 45/100\n",
      "1580/1580 [==============================] - 0s 148us/sample - loss: 9.7774e-05 - mse: 9.7774e-05 - mae: 0.0067 - val_loss: 1.3295e-04 - val_mse: 1.3295e-04 - val_mae: 0.0062\n",
      "Epoch 46/100\n",
      "1580/1580 [==============================] - 0s 136us/sample - loss: 9.3679e-05 - mse: 9.3679e-05 - mae: 0.0066 - val_loss: 1.3137e-04 - val_mse: 1.3137e-04 - val_mae: 0.0062\n",
      "Epoch 47/100\n",
      "1580/1580 [==============================] - 0s 135us/sample - loss: 9.4843e-05 - mse: 9.4843e-05 - mae: 0.0067 - val_loss: 1.3158e-04 - val_mse: 1.3158e-04 - val_mae: 0.0062\n",
      "Epoch 48/100\n",
      "1580/1580 [==============================] - 0s 163us/sample - loss: 9.0849e-05 - mse: 9.0849e-05 - mae: 0.0065 - val_loss: 1.3172e-04 - val_mse: 1.3172e-04 - val_mae: 0.0062\n",
      "Epoch 49/100\n",
      "1580/1580 [==============================] - 0s 160us/sample - loss: 8.5438e-05 - mse: 8.5438e-05 - mae: 0.0063 - val_loss: 1.2537e-04 - val_mse: 1.2537e-04 - val_mae: 0.0059\n",
      "Epoch 50/100\n",
      "1580/1580 [==============================] - 0s 130us/sample - loss: 8.4738e-05 - mse: 8.4738e-05 - mae: 0.0063 - val_loss: 1.2240e-04 - val_mse: 1.2240e-04 - val_mae: 0.0059\n",
      "Epoch 51/100\n",
      "1580/1580 [==============================] - 0s 139us/sample - loss: 8.0575e-05 - mse: 8.0575e-05 - mae: 0.0061 - val_loss: 1.2565e-04 - val_mse: 1.2565e-04 - val_mae: 0.0061\n",
      "Epoch 52/100\n",
      "1580/1580 [==============================] - 0s 145us/sample - loss: 8.0746e-05 - mse: 8.0746e-05 - mae: 0.0062 - val_loss: 1.2653e-04 - val_mse: 1.2653e-04 - val_mae: 0.0062\n",
      "Epoch 53/100\n",
      "1580/1580 [==============================] - 0s 137us/sample - loss: 8.1407e-05 - mse: 8.1407e-05 - mae: 0.0063 - val_loss: 1.1872e-04 - val_mse: 1.1872e-04 - val_mae: 0.0062\n",
      "Epoch 54/100\n",
      "1580/1580 [==============================] - 0s 143us/sample - loss: 7.6740e-05 - mse: 7.6740e-05 - mae: 0.0061 - val_loss: 1.0878e-04 - val_mse: 1.0878e-04 - val_mae: 0.0054\n",
      "Epoch 55/100\n",
      "1580/1580 [==============================] - 0s 126us/sample - loss: 7.4113e-05 - mse: 7.4113e-05 - mae: 0.0059 - val_loss: 1.1534e-04 - val_mse: 1.1534e-04 - val_mae: 0.0058\n",
      "Epoch 56/100\n",
      "1580/1580 [==============================] - 0s 128us/sample - loss: 6.9395e-05 - mse: 6.9395e-05 - mae: 0.0057 - val_loss: 1.1039e-04 - val_mse: 1.1039e-04 - val_mae: 0.0055\n",
      "Epoch 57/100\n",
      "1580/1580 [==============================] - 0s 145us/sample - loss: 6.5932e-05 - mse: 6.5932e-05 - mae: 0.0055 - val_loss: 1.0151e-04 - val_mse: 1.0151e-04 - val_mae: 0.0051\n",
      "Epoch 58/100\n",
      "1580/1580 [==============================] - 0s 149us/sample - loss: 6.8293e-05 - mse: 6.8293e-05 - mae: 0.0058 - val_loss: 1.1605e-04 - val_mse: 1.1605e-04 - val_mae: 0.0061\n",
      "Epoch 59/100\n",
      "1580/1580 [==============================] - 0s 131us/sample - loss: 6.5953e-05 - mse: 6.5953e-05 - mae: 0.0056 - val_loss: 1.0105e-04 - val_mse: 1.0105e-04 - val_mae: 0.0052\n",
      "Epoch 60/100\n",
      "1580/1580 [==============================] - 0s 129us/sample - loss: 6.4992e-05 - mse: 6.4992e-05 - mae: 0.0056 - val_loss: 9.9417e-05 - val_mse: 9.9417e-05 - val_mae: 0.0050\n",
      "Epoch 61/100\n",
      "1580/1580 [==============================] - 0s 139us/sample - loss: 5.9686e-05 - mse: 5.9686e-05 - mae: 0.0053 - val_loss: 9.3620e-05 - val_mse: 9.3620e-05 - val_mae: 0.0047\n",
      "Epoch 62/100\n",
      "1580/1580 [==============================] - 0s 151us/sample - loss: 5.7524e-05 - mse: 5.7524e-05 - mae: 0.0052 - val_loss: 9.9482e-05 - val_mse: 9.9482e-05 - val_mae: 0.0052\n",
      "Epoch 63/100\n",
      "1580/1580 [==============================] - 0s 166us/sample - loss: 5.6639e-05 - mse: 5.6639e-05 - mae: 0.0051 - val_loss: 1.0420e-04 - val_mse: 1.0420e-04 - val_mae: 0.0055\n",
      "Epoch 64/100\n",
      "1580/1580 [==============================] - 0s 141us/sample - loss: 5.8931e-05 - mse: 5.8931e-05 - mae: 0.0054 - val_loss: 9.6571e-05 - val_mse: 9.6571e-05 - val_mae: 0.0051\n",
      "Epoch 65/100\n",
      "1580/1580 [==============================] - 0s 149us/sample - loss: 5.6804e-05 - mse: 5.6804e-05 - mae: 0.0053 - val_loss: 9.3114e-05 - val_mse: 9.3114e-05 - val_mae: 0.0048\n",
      "Epoch 66/100\n",
      "1580/1580 [==============================] - 0s 140us/sample - loss: 5.3657e-05 - mse: 5.3657e-05 - mae: 0.0051 - val_loss: 9.5523e-05 - val_mse: 9.5523e-05 - val_mae: 0.0051\n",
      "Epoch 67/100\n",
      "1580/1580 [==============================] - 0s 137us/sample - loss: 4.9974e-05 - mse: 4.9974e-05 - mae: 0.0049 - val_loss: 9.4775e-05 - val_mse: 9.4775e-05 - val_mae: 0.0050\n",
      "Epoch 68/100\n",
      "1580/1580 [==============================] - 0s 122us/sample - loss: 5.0310e-05 - mse: 5.0310e-05 - mae: 0.0049 - val_loss: 8.8377e-05 - val_mse: 8.8377e-05 - val_mae: 0.0045\n",
      "Epoch 69/100\n",
      "1580/1580 [==============================] - 0s 108us/sample - loss: 5.1009e-05 - mse: 5.1009e-05 - mae: 0.0050 - val_loss: 8.8632e-05 - val_mse: 8.8632e-05 - val_mae: 0.0046\n",
      "Epoch 70/100\n",
      "1580/1580 [==============================] - 0s 143us/sample - loss: 5.5323e-05 - mse: 5.5323e-05 - mae: 0.0054 - val_loss: 8.3513e-05 - val_mse: 8.3513e-05 - val_mae: 0.0044\n",
      "Epoch 71/100\n",
      "1580/1580 [==============================] - 0s 155us/sample - loss: 4.8632e-05 - mse: 4.8632e-05 - mae: 0.0049 - val_loss: 9.1619e-05 - val_mse: 9.1619e-05 - val_mae: 0.0049\n",
      "Epoch 72/100\n",
      "1580/1580 [==============================] - 0s 148us/sample - loss: 5.0238e-05 - mse: 5.0238e-05 - mae: 0.0050 - val_loss: 9.0453e-05 - val_mse: 9.0453e-05 - val_mae: 0.0046\n",
      "Epoch 73/100\n",
      "1580/1580 [==============================] - 0s 137us/sample - loss: 4.3959e-05 - mse: 4.3959e-05 - mae: 0.0046 - val_loss: 8.3678e-05 - val_mse: 8.3678e-05 - val_mae: 0.0046\n",
      "Epoch 74/100\n",
      "1580/1580 [==============================] - 0s 150us/sample - loss: 4.3945e-05 - mse: 4.3945e-05 - mae: 0.0047 - val_loss: 8.8322e-05 - val_mse: 8.8322e-05 - val_mae: 0.0048\n",
      "Epoch 75/100\n",
      "1580/1580 [==============================] - 0s 153us/sample - loss: 4.7769e-05 - mse: 4.7769e-05 - mae: 0.0049 - val_loss: 8.9704e-05 - val_mse: 8.9704e-05 - val_mae: 0.0051\n",
      "Epoch 76/100\n",
      "1580/1580 [==============================] - 0s 147us/sample - loss: 4.8736e-05 - mse: 4.8736e-05 - mae: 0.0050 - val_loss: 8.5423e-05 - val_mse: 8.5423e-05 - val_mae: 0.0048\n",
      "Epoch 77/100\n",
      "1580/1580 [==============================] - 0s 141us/sample - loss: 4.2496e-05 - mse: 4.2496e-05 - mae: 0.0046 - val_loss: 8.0868e-05 - val_mse: 8.0868e-05 - val_mae: 0.0043\n",
      "Epoch 78/100\n",
      "1580/1580 [==============================] - 0s 127us/sample - loss: 4.6328e-05 - mse: 4.6328e-05 - mae: 0.0049 - val_loss: 8.8008e-05 - val_mse: 8.8008e-05 - val_mae: 0.0049\n",
      "Epoch 79/100\n",
      "1580/1580 [==============================] - 0s 131us/sample - loss: 3.9711e-05 - mse: 3.9711e-05 - mae: 0.0044 - val_loss: 8.9114e-05 - val_mse: 8.9114e-05 - val_mae: 0.0051\n",
      "Epoch 80/100\n",
      "1580/1580 [==============================] - 0s 141us/sample - loss: 4.5155e-05 - mse: 4.5155e-05 - mae: 0.0049 - val_loss: 7.7020e-05 - val_mse: 7.7020e-05 - val_mae: 0.0043\n",
      "Epoch 81/100\n",
      "1580/1580 [==============================] - 0s 146us/sample - loss: 4.0864e-05 - mse: 4.0864e-05 - mae: 0.0045 - val_loss: 8.1584e-05 - val_mse: 8.1584e-05 - val_mae: 0.0046\n",
      "Epoch 82/100\n",
      "1580/1580 [==============================] - 0s 137us/sample - loss: 3.9241e-05 - mse: 3.9241e-05 - mae: 0.0044 - val_loss: 8.8126e-05 - val_mse: 8.8126e-05 - val_mae: 0.0051\n",
      "Epoch 83/100\n",
      "1580/1580 [==============================] - 0s 124us/sample - loss: 3.9181e-05 - mse: 3.9181e-05 - mae: 0.0045 - val_loss: 7.5450e-05 - val_mse: 7.5450e-05 - val_mae: 0.0044\n"
     ]
    },
    {
     "name": "stdout",
     "output_type": "stream",
     "text": [
      "Epoch 84/100\n",
      "1580/1580 [==============================] - 0s 125us/sample - loss: 3.5954e-05 - mse: 3.5954e-05 - mae: 0.0043 - val_loss: 8.6624e-05 - val_mse: 8.6624e-05 - val_mae: 0.0051\n",
      "Epoch 85/100\n",
      "1580/1580 [==============================] - 0s 130us/sample - loss: 3.8381e-05 - mse: 3.8381e-05 - mae: 0.0044 - val_loss: 8.1856e-05 - val_mse: 8.1856e-05 - val_mae: 0.0047\n",
      "Epoch 86/100\n",
      "1580/1580 [==============================] - 0s 137us/sample - loss: 3.4495e-05 - mse: 3.4495e-05 - mae: 0.0041 - val_loss: 7.7151e-05 - val_mse: 7.7151e-05 - val_mae: 0.0044\n",
      "Epoch 87/100\n",
      "1580/1580 [==============================] - 0s 137us/sample - loss: 3.4614e-05 - mse: 3.4614e-05 - mae: 0.0042 - val_loss: 7.0436e-05 - val_mse: 7.0436e-05 - val_mae: 0.0040\n",
      "Epoch 88/100\n",
      "1580/1580 [==============================] - 0s 138us/sample - loss: 3.2335e-05 - mse: 3.2335e-05 - mae: 0.0040 - val_loss: 8.0746e-05 - val_mse: 8.0746e-05 - val_mae: 0.0052\n",
      "Epoch 89/100\n",
      "1580/1580 [==============================] - 0s 147us/sample - loss: 3.4153e-05 - mse: 3.4153e-05 - mae: 0.0042 - val_loss: 7.6065e-05 - val_mse: 7.6065e-05 - val_mae: 0.0047\n",
      "Epoch 90/100\n",
      "1580/1580 [==============================] - 0s 168us/sample - loss: 3.4435e-05 - mse: 3.4435e-05 - mae: 0.0042 - val_loss: 7.0016e-05 - val_mse: 7.0016e-05 - val_mae: 0.0041\n",
      "Epoch 91/100\n",
      "1580/1580 [==============================] - 0s 147us/sample - loss: 3.1449e-05 - mse: 3.1449e-05 - mae: 0.0040 - val_loss: 9.5794e-05 - val_mse: 9.5794e-05 - val_mae: 0.0059\n",
      "Epoch 92/100\n",
      "1580/1580 [==============================] - 0s 137us/sample - loss: 3.5277e-05 - mse: 3.5277e-05 - mae: 0.0043 - val_loss: 7.2775e-05 - val_mse: 7.2775e-05 - val_mae: 0.0043\n",
      "Epoch 93/100\n",
      "1580/1580 [==============================] - 0s 126us/sample - loss: 3.3238e-05 - mse: 3.3238e-05 - mae: 0.0041 - val_loss: 7.0446e-05 - val_mse: 7.0446e-05 - val_mae: 0.0040\n",
      "Epoch 94/100\n",
      "1580/1580 [==============================] - 0s 106us/sample - loss: 3.0763e-05 - mse: 3.0763e-05 - mae: 0.0039 - val_loss: 6.9346e-05 - val_mse: 6.9346e-05 - val_mae: 0.0042\n",
      "Epoch 95/100\n",
      "1580/1580 [==============================] - 0s 137us/sample - loss: 2.9706e-05 - mse: 2.9706e-05 - mae: 0.0039 - val_loss: 6.8305e-05 - val_mse: 6.8305e-05 - val_mae: 0.0039\n",
      "Epoch 96/100\n",
      "1580/1580 [==============================] - 0s 132us/sample - loss: 2.9019e-05 - mse: 2.9019e-05 - mae: 0.0039 - val_loss: 1.0785e-04 - val_mse: 1.0785e-04 - val_mae: 0.0070\n",
      "Epoch 97/100\n",
      "1580/1580 [==============================] - 0s 132us/sample - loss: 3.4592e-05 - mse: 3.4592e-05 - mae: 0.0043 - val_loss: 6.8989e-05 - val_mse: 6.8989e-05 - val_mae: 0.0043\n",
      "Epoch 98/100\n",
      "1580/1580 [==============================] - 0s 139us/sample - loss: 3.0305e-05 - mse: 3.0305e-05 - mae: 0.0040 - val_loss: 6.3725e-05 - val_mse: 6.3725e-05 - val_mae: 0.0039\n",
      "Epoch 99/100\n",
      "1580/1580 [==============================] - 0s 110us/sample - loss: 2.6189e-05 - mse: 2.6189e-05 - mae: 0.0036 - val_loss: 6.1857e-05 - val_mse: 6.1857e-05 - val_mae: 0.0039\n",
      "Epoch 100/100\n",
      "1580/1580 [==============================] - 0s 116us/sample - loss: 2.8015e-05 - mse: 2.8015e-05 - mae: 0.0038 - val_loss: 6.1062e-05 - val_mse: 6.1062e-05 - val_mae: 0.0035\n"
     ]
    }
   ],
   "source": [
    "# 1 Layer RNN\n",
    "inputs = tf.keras.Input(shape=X_train.shape[1:])\n",
    "x = normalizer(inputs)\n",
    "\n",
    "x = SimpleRNN(32, return_sequences=False)(x)\n",
    "output = Dense(1 * N_out, activation='linear')(x)\n",
    "\n",
    "\n",
    "model_1 = tf.keras.Model(inputs, output)\n",
    "history = runModel(model_1)"
   ]
  },
  {
   "cell_type": "code",
   "execution_count": 19,
   "id": "material-reminder",
   "metadata": {},
   "outputs": [
    {
     "name": "stdout",
     "output_type": "stream",
     "text": [
      "dict_keys(['loss', 'mse', 'mae', 'val_loss', 'val_mse', 'val_mae'])\n"
     ]
    }
   ],
   "source": [
    "print(history.history.keys())"
   ]
  },
  {
   "cell_type": "code",
   "execution_count": 20,
   "id": "frozen-regard",
   "metadata": {},
   "outputs": [
    {
     "data": {
      "image/png": "[encoded data removed]",
      "text/plain": [
       "<Figure size 432x288 with 1 Axes>"
      ]
     },
     "metadata": {
      "needs_background": "light"
     },
     "output_type": "display_data"
    }
   ],
   "source": [
    "# summarize history for mse\n",
    "plt.plot(history.history['mse'])\n",
    "plt.plot(history.history['val_mse'])\n",
    "plt.title('model mse')\n",
    "plt.ylabel('mse')\n",
    "plt.xlabel('epoch')\n",
    "plt.legend(['train', 'validation'], loc='upper left')\n",
    "plt.show()"
   ]
  },
  {
   "cell_type": "code",
   "execution_count": 21,
   "id": "eastern-humanity",
   "metadata": {},
   "outputs": [
    {
     "data": {
      "text/plain": [
       "(5, 5)"
      ]
     },
     "execution_count": 21,
     "metadata": {},
     "output_type": "execute_result"
    }
   ],
   "source": [
    "X_train.shape[1:]"
   ]
  },
  {
   "cell_type": "code",
   "execution_count": 22,
   "id": "acceptable-builder",
   "metadata": {},
   "outputs": [
    {
     "data": {
      "image/png": "[encoded data removed]",
      "text/plain": [
       "<Figure size 432x288 with 1 Axes>"
      ]
     },
     "metadata": {
      "needs_background": "light"
     },
     "output_type": "display_data"
    }
   ],
   "source": [
    "# summarize history for mae\n",
    "plt.plot(history.history['mae'])\n",
    "plt.plot(history.history['val_mae'])\n",
    "plt.title('model mae')\n",
    "plt.ylabel('mae')\n",
    "plt.xlabel('epoch')\n",
    "plt.legend(['train', 'validation'], loc='upper left')\n",
    "plt.show()"
   ]
  },
  {
   "cell_type": "code",
   "execution_count": 36,
   "id": "dramatic-pizza",
   "metadata": {},
   "outputs": [],
   "source": [
    "#Loading the testing data\n",
    "ds_test = pd.read_csv(\"test_data_RNN.csv\", header=None).to_numpy()\n",
    "X_test, y_test = ds_test[:, :-4], ds_test[:, -4:]\n",
    "X_test = X_test.reshape((len(X_test), N_days, N_features))\n",
    "\n",
    "X_test2, y_test2 = ds_test[:, :-4], ds_test[:, -4:]\n",
    "X_test2 = X_test2.reshape((len(X_test), N_days, N_features))"
   ]
  },
  {
   "cell_type": "code",
   "execution_count": 24,
   "id": "dominican-review",
   "metadata": {},
   "outputs": [
    {
     "data": {
      "text/plain": [
       "(798, 5, 5)"
      ]
     },
     "execution_count": 24,
     "metadata": {},
     "output_type": "execute_result"
    }
   ],
   "source": [
    "X_test.shape"
   ]
  },
  {
   "cell_type": "code",
   "execution_count": 25,
   "id": "popular-mustang",
   "metadata": {},
   "outputs": [
    {
     "name": "stdout",
     "output_type": "stream",
     "text": [
      "798/798 [==============================] - 0s 59us/sample - loss: 1.5100e-04 - mse: 1.5100e-04 - mae: 0.0048\n"
     ]
    }
   ],
   "source": [
    "#Runing prediction on the test data and output required plot and loss\n",
    "scores = model_1.evaluate(X_test, y_test)"
   ]
  },
  {
   "cell_type": "code",
   "execution_count": 26,
   "id": "dress-final",
   "metadata": {},
   "outputs": [
    {
     "data": {
      "text/plain": [
       "(798, 5, 5)"
      ]
     },
     "execution_count": 26,
     "metadata": {},
     "output_type": "execute_result"
    }
   ],
   "source": [
    "X_test.shape"
   ]
  },
  {
   "cell_type": "code",
   "execution_count": 41,
   "id": "coupled-light",
   "metadata": {},
   "outputs": [],
   "source": [
    "y_pred = model_1.predict(X_test)"
   ]
  },
  {
   "cell_type": "code",
   "execution_count": 28,
   "id": "diagnostic-flash",
   "metadata": {},
   "outputs": [
    {
     "data": {
      "text/plain": [
       "(798, 4)"
      ]
     },
     "execution_count": 28,
     "metadata": {},
     "output_type": "execute_result"
    }
   ],
   "source": [
    "y_pred.shape"
   ]
  },
  {
   "cell_type": "code",
   "execution_count": 29,
   "id": "nasty-dining",
   "metadata": {},
   "outputs": [
    {
     "data": {
      "text/plain": [
       "array([[-0.00313817,  0.0045525 , -0.00613165,  0.00020793],\n",
       "       [ 0.00998316,  0.00551302,  0.00418508,  0.00190249],\n",
       "       [ 0.01120083,  0.00591315,  0.00446421,  0.00453619],\n",
       "       ...,\n",
       "       [ 0.00202231,  0.01782556,  0.01399483, -0.00494091],\n",
       "       [-0.00351687,  0.00452317, -0.00300962,  0.00076962],\n",
       "       [ 0.00265826,  0.00165771, -0.00320983,  0.0037636 ]],\n",
       "      dtype=float32)"
      ]
     },
     "execution_count": 29,
     "metadata": {},
     "output_type": "execute_result"
    }
   ],
   "source": [
    "y_pred"
   ]
  },
  {
   "cell_type": "code",
   "execution_count": 30,
   "id": "manual-stephen",
   "metadata": {},
   "outputs": [
    {
     "data": {
      "text/plain": [
       "array([[0.00333308, 0.00332884, 0.00330802, 0.00331644],\n",
       "       [0.00525628, 0.0052405 , 0.00524465, 0.00522004],\n",
       "       [0.00524519, 0.00525923, 0.00526975, 0.00526215],\n",
       "       ...,\n",
       "       [0.00407494, 0.00407922, 0.00406865, 0.00407922],\n",
       "       [0.00331697, 0.00332521, 0.00332006, 0.00331652],\n",
       "       [0.00362275, 0.00361145, 0.0036365 , 0.00361145]])"
      ]
     },
     "execution_count": 30,
     "metadata": {},
     "output_type": "execute_result"
    }
   ],
   "source": [
    "y_test"
   ]
  },
  {
   "cell_type": "code",
   "execution_count": null,
   "id": "conditional-hungarian",
   "metadata": {},
   "outputs": [],
   "source": [
    "out1, out2 = model.predict(pred_X)"
   ]
  },
  {
   "cell_type": "markdown",
   "id": "wireless-bibliography",
   "metadata": {},
   "source": [
    "# LSTM"
   ]
  },
  {
   "cell_type": "code",
   "execution_count": 46,
   "id": "continuing-shooting",
   "metadata": {},
   "outputs": [
    {
     "name": "stdout",
     "output_type": "stream",
     "text": [
      "Model: \"model_4\"\n",
      "_________________________________________________________________\n",
      "Layer (type)                 Output Shape              Param #   \n",
      "=================================================================\n",
      "input_7 (InputLayer)         [(None, 5, 5)]            0         \n",
      "_________________________________________________________________\n",
      "normalization (Normalization (None, 5, 5)              11        \n",
      "_________________________________________________________________\n",
      "lstm_2 (LSTM)                (None, 64)                17920     \n",
      "_________________________________________________________________\n",
      "dense_6 (Dense)              (None, 4)                 260       \n",
      "=================================================================\n",
      "Total params: 18,191\n",
      "Trainable params: 18,180\n",
      "Non-trainable params: 11\n",
      "_________________________________________________________________\n",
      "Train on 1580 samples, validate on 279 samples\n",
      "Epoch 1/100\n",
      "1580/1580 [==============================] - 3s 2ms/sample - loss: 0.0016 - mse: 0.0016 - mae: 0.0222 - val_loss: 7.5723e-05 - val_mse: 7.5723e-05 - val_mae: 0.0056\n",
      "Epoch 2/100\n",
      "1580/1580 [==============================] - 0s 145us/sample - loss: 4.3662e-05 - mse: 4.3662e-05 - mae: 0.0042 - val_loss: 3.3265e-05 - val_mse: 3.3265e-05 - val_mae: 0.0031\n",
      "Epoch 3/100\n",
      "1580/1580 [==============================] - 0s 155us/sample - loss: 2.6379e-05 - mse: 2.6379e-05 - mae: 0.0030 - val_loss: 2.5862e-05 - val_mse: 2.5862e-05 - val_mae: 0.0028\n",
      "Epoch 4/100\n",
      "1580/1580 [==============================] - 0s 156us/sample - loss: 1.9276e-05 - mse: 1.9276e-05 - mae: 0.0026 - val_loss: 2.1770e-05 - val_mse: 2.1770e-05 - val_mae: 0.0026\n",
      "Epoch 5/100\n",
      "1580/1580 [==============================] - 0s 173us/sample - loss: 1.5149e-05 - mse: 1.5149e-05 - mae: 0.0024 - val_loss: 1.5195e-05 - val_mse: 1.5195e-05 - val_mae: 0.0022\n",
      "Epoch 6/100\n",
      "1580/1580 [==============================] - 0s 150us/sample - loss: 1.2434e-05 - mse: 1.2434e-05 - mae: 0.0022 - val_loss: 1.2836e-05 - val_mse: 1.2836e-05 - val_mae: 0.0021\n",
      "Epoch 7/100\n",
      "1580/1580 [==============================] - 0s 158us/sample - loss: 9.8910e-06 - mse: 9.8910e-06 - mae: 0.0020 - val_loss: 9.3787e-06 - val_mse: 9.3787e-06 - val_mae: 0.0018\n",
      "Epoch 8/100\n",
      "1580/1580 [==============================] - 0s 169us/sample - loss: 7.7732e-06 - mse: 7.7732e-06 - mae: 0.0018 - val_loss: 7.9200e-06 - val_mse: 7.9200e-06 - val_mae: 0.0017\n",
      "Epoch 9/100\n",
      "1580/1580 [==============================] - 0s 172us/sample - loss: 6.7140e-06 - mse: 6.7140e-06 - mae: 0.0017 - val_loss: 6.0237e-06 - val_mse: 6.0237e-06 - val_mae: 0.0015\n",
      "Epoch 10/100\n",
      "1580/1580 [==============================] - 0s 155us/sample - loss: 5.9008e-06 - mse: 5.9008e-06 - mae: 0.0016 - val_loss: 9.8004e-06 - val_mse: 9.8004e-06 - val_mae: 0.0023\n",
      "Epoch 11/100\n",
      "1580/1580 [==============================] - 0s 158us/sample - loss: 5.2863e-06 - mse: 5.2863e-06 - mae: 0.0015 - val_loss: 7.5071e-06 - val_mse: 7.5071e-06 - val_mae: 0.0018\n",
      "Epoch 12/100\n",
      "1580/1580 [==============================] - 0s 166us/sample - loss: 4.6007e-06 - mse: 4.6007e-06 - mae: 0.0014 - val_loss: 4.3701e-06 - val_mse: 4.3701e-06 - val_mae: 0.0013\n",
      "Epoch 13/100\n",
      "1580/1580 [==============================] - 0s 160us/sample - loss: 3.7888e-06 - mse: 3.7888e-06 - mae: 0.0013 - val_loss: 4.1666e-06 - val_mse: 4.1666e-06 - val_mae: 0.0012\n",
      "Epoch 14/100\n",
      "1580/1580 [==============================] - 0s 144us/sample - loss: 3.5257e-06 - mse: 3.5257e-06 - mae: 0.0013 - val_loss: 3.5208e-06 - val_mse: 3.5208e-06 - val_mae: 0.0012\n",
      "Epoch 15/100\n",
      "1580/1580 [==============================] - 0s 161us/sample - loss: 2.7372e-06 - mse: 2.7372e-06 - mae: 0.0011 - val_loss: 2.8200e-06 - val_mse: 2.8200e-06 - val_mae: 9.8589e-04\n",
      "Epoch 16/100\n",
      "1580/1580 [==============================] - 0s 159us/sample - loss: 2.4453e-06 - mse: 2.4453e-06 - mae: 0.0010 - val_loss: 3.2958e-06 - val_mse: 3.2958e-06 - val_mae: 0.0012\n",
      "Epoch 17/100\n",
      "1580/1580 [==============================] - 0s 166us/sample - loss: 2.3869e-06 - mse: 2.3868e-06 - mae: 0.0011 - val_loss: 3.1626e-06 - val_mse: 3.1626e-06 - val_mae: 0.0011\n",
      "Epoch 18/100\n",
      "1580/1580 [==============================] - 0s 150us/sample - loss: 2.2461e-06 - mse: 2.2461e-06 - mae: 0.0010 - val_loss: 2.9157e-06 - val_mse: 2.9157e-06 - val_mae: 0.0010\n",
      "Epoch 19/100\n",
      "1580/1580 [==============================] - 0s 157us/sample - loss: 2.4023e-06 - mse: 2.4023e-06 - mae: 0.0011 - val_loss: 4.9047e-06 - val_mse: 4.9047e-06 - val_mae: 0.0017\n",
      "Epoch 20/100\n",
      "1580/1580 [==============================] - 0s 169us/sample - loss: 2.8069e-06 - mse: 2.8069e-06 - mae: 0.0012 - val_loss: 2.5500e-06 - val_mse: 2.5500e-06 - val_mae: 9.8689e-04\n",
      "Epoch 21/100\n",
      "1580/1580 [==============================] - 0s 169us/sample - loss: 1.8023e-06 - mse: 1.8023e-06 - mae: 9.2838e-04 - val_loss: 2.2192e-06 - val_mse: 2.2192e-06 - val_mae: 0.0010\n",
      "Epoch 22/100\n",
      "1580/1580 [==============================] - 0s 169us/sample - loss: 1.7476e-06 - mse: 1.7476e-06 - mae: 9.4044e-04 - val_loss: 2.3160e-06 - val_mse: 2.3160e-06 - val_mae: 0.0011\n",
      "Epoch 23/100\n",
      "1580/1580 [==============================] - 0s 158us/sample - loss: 2.1407e-06 - mse: 2.1407e-06 - mae: 0.0011 - val_loss: 3.0444e-06 - val_mse: 3.0444e-06 - val_mae: 0.0012\n",
      "Epoch 24/100\n",
      "1580/1580 [==============================] - 0s 158us/sample - loss: 2.3297e-06 - mse: 2.3297e-06 - mae: 0.0011 - val_loss: 2.5901e-06 - val_mse: 2.5901e-06 - val_mae: 0.0011\n",
      "Epoch 25/100\n",
      "1580/1580 [==============================] - 0s 166us/sample - loss: 1.8113e-06 - mse: 1.8113e-06 - mae: 9.8154e-04 - val_loss: 2.1664e-06 - val_mse: 2.1664e-06 - val_mae: 0.0010\n",
      "Epoch 26/100\n",
      "1580/1580 [==============================] - 0s 146us/sample - loss: 2.0713e-06 - mse: 2.0713e-06 - mae: 0.0010 - val_loss: 2.2017e-06 - val_mse: 2.2017e-06 - val_mae: 0.0011\n",
      "Epoch 27/100\n",
      "1580/1580 [==============================] - 0s 161us/sample - loss: 1.6999e-06 - mse: 1.6999e-06 - mae: 9.6517e-04 - val_loss: 2.4968e-06 - val_mse: 2.4968e-06 - val_mae: 0.0012\n",
      "Epoch 28/100\n",
      "1580/1580 [==============================] - 0s 160us/sample - loss: 1.6396e-06 - mse: 1.6396e-06 - mae: 9.4038e-04 - val_loss: 1.8701e-06 - val_mse: 1.8701e-06 - val_mae: 9.2445e-04\n",
      "Epoch 29/100\n",
      "1580/1580 [==============================] - 0s 159us/sample - loss: 1.4728e-06 - mse: 1.4728e-06 - mae: 8.7772e-04 - val_loss: 2.0811e-06 - val_mse: 2.0811e-06 - val_mae: 8.8829e-04\n",
      "Epoch 30/100\n",
      "1580/1580 [==============================] - 0s 167us/sample - loss: 1.8949e-06 - mse: 1.8949e-06 - mae: 0.0010 - val_loss: 1.4366e-06 - val_mse: 1.4366e-06 - val_mae: 8.6386e-04\n",
      "Epoch 31/100\n",
      "1580/1580 [==============================] - 0s 141us/sample - loss: 2.4288e-06 - mse: 2.4288e-06 - mae: 0.0012 - val_loss: 4.8368e-06 - val_mse: 4.8368e-06 - val_mae: 0.0016\n",
      "Epoch 32/100\n",
      "1580/1580 [==============================] - 0s 148us/sample - loss: 2.7577e-06 - mse: 2.7577e-06 - mae: 0.0012 - val_loss: 1.6015e-06 - val_mse: 1.6015e-06 - val_mae: 8.7217e-04\n",
      "Epoch 33/100\n",
      "1580/1580 [==============================] - 0s 166us/sample - loss: 1.7622e-06 - mse: 1.7622e-06 - mae: 9.8259e-04 - val_loss: 1.4116e-06 - val_mse: 1.4116e-06 - val_mae: 7.7920e-04\n",
      "Epoch 34/100\n",
      "1580/1580 [==============================] - 0s 152us/sample - loss: 1.3350e-06 - mse: 1.3350e-06 - mae: 8.3762e-04 - val_loss: 1.8699e-06 - val_mse: 1.8699e-06 - val_mae: 9.0456e-04\n",
      "Epoch 35/100\n",
      "1580/1580 [==============================] - 0s 144us/sample - loss: 1.5488e-06 - mse: 1.5488e-06 - mae: 9.1181e-04 - val_loss: 2.0206e-06 - val_mse: 2.0206e-06 - val_mae: 9.8029e-04\n",
      "Epoch 36/100\n",
      "1580/1580 [==============================] - 0s 149us/sample - loss: 5.0619e-06 - mse: 5.0619e-06 - mae: 0.0014 - val_loss: 5.4957e-06 - val_mse: 5.4957e-06 - val_mae: 0.0019\n",
      "Epoch 37/100\n",
      "1580/1580 [==============================] - 0s 158us/sample - loss: 5.4061e-06 - mse: 5.4061e-06 - mae: 0.0017 - val_loss: 2.1618e-06 - val_mse: 2.1618e-06 - val_mae: 0.0011\n",
      "Epoch 38/100\n",
      "1580/1580 [==============================] - 0s 151us/sample - loss: 1.4279e-06 - mse: 1.4279e-06 - mae: 8.9174e-04 - val_loss: 2.1462e-06 - val_mse: 2.1462e-06 - val_mae: 0.0010\n",
      "Epoch 39/100\n"
     ]
    },
    {
     "name": "stdout",
     "output_type": "stream",
     "text": [
      "1580/1580 [==============================] - 0s 137us/sample - loss: 1.2211e-06 - mse: 1.2211e-06 - mae: 8.2304e-04 - val_loss: 1.0669e-06 - val_mse: 1.0669e-06 - val_mae: 6.7849e-04\n",
      "Epoch 40/100\n",
      "1580/1580 [==============================] - 0s 148us/sample - loss: 1.0436e-06 - mse: 1.0436e-06 - mae: 7.5393e-04 - val_loss: 1.2998e-06 - val_mse: 1.2998e-06 - val_mae: 7.9053e-04\n",
      "Epoch 41/100\n",
      "1580/1580 [==============================] - 0s 147us/sample - loss: 1.0922e-06 - mse: 1.0922e-06 - mae: 7.6840e-04 - val_loss: 1.6243e-06 - val_mse: 1.6243e-06 - val_mae: 9.0443e-04\n",
      "Epoch 42/100\n",
      "1580/1580 [==============================] - 0s 164us/sample - loss: 1.0049e-06 - mse: 1.0049e-06 - mae: 7.5261e-04 - val_loss: 1.0616e-06 - val_mse: 1.0616e-06 - val_mae: 6.9231e-04\n",
      "Epoch 43/100\n",
      "1580/1580 [==============================] - 0s 142us/sample - loss: 9.3617e-07 - mse: 9.3617e-07 - mae: 7.2514e-04 - val_loss: 8.0433e-07 - val_mse: 8.0433e-07 - val_mae: 5.8989e-04\n",
      "Epoch 44/100\n",
      "1580/1580 [==============================] - 0s 148us/sample - loss: 9.9333e-07 - mse: 9.9333e-07 - mae: 7.4177e-04 - val_loss: 1.3185e-06 - val_mse: 1.3185e-06 - val_mae: 7.9712e-04\n",
      "Epoch 45/100\n",
      "1580/1580 [==============================] - 0s 148us/sample - loss: 2.7429e-06 - mse: 2.7429e-06 - mae: 0.0012 - val_loss: 4.2668e-06 - val_mse: 4.2668e-06 - val_mae: 0.0017\n",
      "Epoch 46/100\n",
      "1580/1580 [==============================] - 0s 156us/sample - loss: 1.7567e-06 - mse: 1.7567e-06 - mae: 0.0010 - val_loss: 1.3619e-06 - val_mse: 1.3619e-06 - val_mae: 8.3001e-04\n",
      "Epoch 47/100\n",
      "1580/1580 [==============================] - 0s 164us/sample - loss: 2.6532e-06 - mse: 2.6532e-06 - mae: 0.0012 - val_loss: 3.2606e-06 - val_mse: 3.2606e-06 - val_mae: 0.0013\n",
      "Epoch 48/100\n",
      "1580/1580 [==============================] - 0s 144us/sample - loss: 1.4342e-06 - mse: 1.4342e-06 - mae: 8.9814e-04 - val_loss: 9.9971e-07 - val_mse: 9.9971e-07 - val_mae: 7.0412e-04\n",
      "Epoch 49/100\n",
      "1580/1580 [==============================] - 0s 148us/sample - loss: 9.1132e-07 - mse: 9.1132e-07 - mae: 7.2204e-04 - val_loss: 1.1003e-06 - val_mse: 1.1003e-06 - val_mae: 7.3815e-04\n",
      "Epoch 50/100\n",
      "1580/1580 [==============================] - 0s 162us/sample - loss: 1.3533e-06 - mse: 1.3533e-06 - mae: 8.8787e-04 - val_loss: 2.3088e-06 - val_mse: 2.3088e-06 - val_mae: 0.0011\n",
      "Epoch 51/100\n",
      "1580/1580 [==============================] - 0s 152us/sample - loss: 2.8847e-06 - mse: 2.8847e-06 - mae: 0.0013 - val_loss: 8.8933e-06 - val_mse: 8.8933e-06 - val_mae: 0.0023\n",
      "Epoch 52/100\n",
      "1580/1580 [==============================] - 0s 138us/sample - loss: 2.1500e-05 - mse: 2.1500e-05 - mae: 0.0032 - val_loss: 1.5235e-05 - val_mse: 1.5235e-05 - val_mae: 0.0032\n",
      "Epoch 53/100\n",
      "1580/1580 [==============================] - 0s 148us/sample - loss: 4.5300e-06 - mse: 4.5300e-06 - mae: 0.0015 - val_loss: 1.8139e-06 - val_mse: 1.8139e-06 - val_mae: 8.8903e-04\n",
      "Epoch 54/100\n",
      "1580/1580 [==============================] - 0s 158us/sample - loss: 1.6049e-06 - mse: 1.6049e-06 - mae: 9.3417e-04 - val_loss: 2.3217e-06 - val_mse: 2.3217e-06 - val_mae: 0.0012\n",
      "Epoch 55/100\n",
      "1580/1580 [==============================] - 0s 165us/sample - loss: 1.3980e-06 - mse: 1.3980e-06 - mae: 8.6546e-04 - val_loss: 7.3336e-07 - val_mse: 7.3336e-07 - val_mae: 5.8641e-04\n",
      "Epoch 56/100\n",
      "1580/1580 [==============================] - 0s 164us/sample - loss: 6.3305e-07 - mse: 6.3305e-07 - mae: 5.9733e-04 - val_loss: 8.7185e-07 - val_mse: 8.7185e-07 - val_mae: 6.3853e-04\n",
      "Epoch 57/100\n",
      "1580/1580 [==============================] - 0s 145us/sample - loss: 6.5205e-07 - mse: 6.5205e-07 - mae: 5.9544e-04 - val_loss: 9.4164e-07 - val_mse: 9.4164e-07 - val_mae: 7.0721e-04\n",
      "Epoch 58/100\n",
      "1580/1580 [==============================] - 0s 147us/sample - loss: 1.0640e-06 - mse: 1.0640e-06 - mae: 7.8604e-04 - val_loss: 8.8601e-07 - val_mse: 8.8601e-07 - val_mae: 6.5279e-04\n",
      "Epoch 59/100\n",
      "1580/1580 [==============================] - 0s 165us/sample - loss: 9.6663e-07 - mse: 9.6663e-07 - mae: 7.5124e-04 - val_loss: 1.1135e-06 - val_mse: 1.1135e-06 - val_mae: 8.3000e-04\n",
      "Epoch 60/100\n",
      "1580/1580 [==============================] - 0s 157us/sample - loss: 6.5061e-07 - mse: 6.5060e-07 - mae: 6.2666e-04 - val_loss: 7.4828e-07 - val_mse: 7.4828e-07 - val_mae: 5.5339e-04\n",
      "Epoch 61/100\n",
      "1580/1580 [==============================] - 0s 144us/sample - loss: 1.0460e-06 - mse: 1.0460e-06 - mae: 7.7979e-04 - val_loss: 8.8790e-07 - val_mse: 8.8790e-07 - val_mae: 6.3098e-04\n",
      "Epoch 62/100\n",
      "1580/1580 [==============================] - 0s 150us/sample - loss: 1.6306e-06 - mse: 1.6306e-06 - mae: 9.5410e-04 - val_loss: 1.8702e-06 - val_mse: 1.8702e-06 - val_mae: 0.0010\n",
      "Epoch 63/100\n",
      "1580/1580 [==============================] - 0s 157us/sample - loss: 2.6278e-06 - mse: 2.6278e-06 - mae: 0.0012 - val_loss: 1.6941e-06 - val_mse: 1.6941e-06 - val_mae: 0.0010\n",
      "Epoch 64/100\n",
      "1580/1580 [==============================] - 0s 155us/sample - loss: 2.6101e-06 - mse: 2.6101e-06 - mae: 0.0012 - val_loss: 1.8781e-06 - val_mse: 1.8781e-06 - val_mae: 0.0011\n",
      "Epoch 65/100\n",
      "1580/1580 [==============================] - 0s 162us/sample - loss: 1.0556e-06 - mse: 1.0556e-06 - mae: 7.7658e-04 - val_loss: 1.5270e-06 - val_mse: 1.5270e-06 - val_mae: 9.3447e-04\n",
      "Epoch 66/100\n",
      "1580/1580 [==============================] - 0s 145us/sample - loss: 8.3082e-07 - mse: 8.3082e-07 - mae: 6.9017e-04 - val_loss: 1.1873e-06 - val_mse: 1.1873e-06 - val_mae: 8.0229e-04\n",
      "Epoch 67/100\n",
      "1580/1580 [==============================] - 0s 167us/sample - loss: 1.1151e-06 - mse: 1.1151e-06 - mae: 8.0005e-04 - val_loss: 8.7050e-07 - val_mse: 8.7050e-07 - val_mae: 6.6814e-04\n",
      "Epoch 68/100\n",
      "1580/1580 [==============================] - 0s 171us/sample - loss: 8.2556e-07 - mse: 8.2556e-07 - mae: 6.6787e-04 - val_loss: 1.9571e-06 - val_mse: 1.9571e-06 - val_mae: 9.1837e-04\n",
      "Epoch 69/100\n",
      "1580/1580 [==============================] - 0s 179us/sample - loss: 1.9225e-06 - mse: 1.9225e-06 - mae: 9.9754e-04 - val_loss: 1.8944e-06 - val_mse: 1.8944e-06 - val_mae: 8.7949e-04\n",
      "Epoch 70/100\n",
      "1580/1580 [==============================] - 0s 169us/sample - loss: 2.2683e-06 - mse: 2.2683e-06 - mae: 0.0010 - val_loss: 2.2096e-06 - val_mse: 2.2096e-06 - val_mae: 9.7164e-04\n",
      "Epoch 71/100\n",
      "1580/1580 [==============================] - 0s 170us/sample - loss: 2.2081e-06 - mse: 2.2081e-06 - mae: 0.0010 - val_loss: 1.7011e-06 - val_mse: 1.7011e-06 - val_mae: 9.5834e-04\n",
      "Epoch 72/100\n",
      "1580/1580 [==============================] - 0s 169us/sample - loss: 1.0083e-06 - mse: 1.0083e-06 - mae: 7.3892e-04 - val_loss: 3.1971e-06 - val_mse: 3.1971e-06 - val_mae: 0.0015\n",
      "Epoch 73/100\n",
      "1580/1580 [==============================] - 0s 185us/sample - loss: 2.2402e-06 - mse: 2.2402e-06 - mae: 0.0011 - val_loss: 1.1712e-06 - val_mse: 1.1712e-06 - val_mae: 8.1520e-04\n",
      "Epoch 74/100\n",
      "1580/1580 [==============================] - 0s 172us/sample - loss: 1.2021e-06 - mse: 1.2021e-06 - mae: 8.1057e-04 - val_loss: 6.1091e-07 - val_mse: 6.1091e-07 - val_mae: 5.3097e-04\n",
      "Epoch 75/100\n",
      "1580/1580 [==============================] - 0s 162us/sample - loss: 1.2581e-06 - mse: 1.2581e-06 - mae: 8.0990e-04 - val_loss: 1.3957e-06 - val_mse: 1.3957e-06 - val_mae: 8.9063e-04\n",
      "Epoch 76/100\n",
      "1580/1580 [==============================] - 0s 169us/sample - loss: 2.5101e-06 - mse: 2.5101e-06 - mae: 0.0011 - val_loss: 7.5235e-07 - val_mse: 7.5235e-07 - val_mae: 6.4959e-04\n",
      "Epoch 77/100\n",
      "1580/1580 [==============================] - 0s 158us/sample - loss: 7.9410e-07 - mse: 7.9410e-07 - mae: 6.7368e-04 - val_loss: 1.2983e-06 - val_mse: 1.2983e-06 - val_mae: 9.0567e-04\n",
      "Epoch 78/100\n",
      "1580/1580 [==============================] - 0s 148us/sample - loss: 9.8387e-07 - mse: 9.8387e-07 - mae: 7.5503e-04 - val_loss: 5.5949e-07 - val_mse: 5.5949e-07 - val_mae: 4.5336e-04\n",
      "Epoch 79/100\n",
      "1580/1580 [==============================] - 0s 148us/sample - loss: 1.0988e-06 - mse: 1.0988e-06 - mae: 7.7256e-04 - val_loss: 1.3356e-06 - val_mse: 1.3356e-06 - val_mae: 8.1144e-04\n",
      "Epoch 80/100\n",
      "1580/1580 [==============================] - 0s 147us/sample - loss: 2.6921e-06 - mse: 2.6921e-06 - mae: 0.0012 - val_loss: 2.8590e-06 - val_mse: 2.8590e-06 - val_mae: 0.0013\n",
      "Epoch 81/100\n"
     ]
    },
    {
     "name": "stdout",
     "output_type": "stream",
     "text": [
      "1580/1580 [==============================] - 0s 159us/sample - loss: 3.4011e-06 - mse: 3.4011e-06 - mae: 0.0013 - val_loss: 5.5761e-06 - val_mse: 5.5761e-06 - val_mae: 0.0018\n",
      "Epoch 82/100\n",
      "1580/1580 [==============================] - 0s 179us/sample - loss: 6.9773e-06 - mse: 6.9773e-06 - mae: 0.0017 - val_loss: 1.9644e-06 - val_mse: 1.9644e-06 - val_mae: 0.0011\n",
      "Epoch 83/100\n",
      "1580/1580 [==============================] - 0s 162us/sample - loss: 2.8788e-06 - mse: 2.8788e-06 - mae: 0.0012 - val_loss: 3.2590e-06 - val_mse: 3.2590e-06 - val_mae: 0.0014\n",
      "Epoch 84/100\n",
      "1580/1580 [==============================] - 0s 149us/sample - loss: 4.8346e-06 - mse: 4.8346e-06 - mae: 0.0016 - val_loss: 3.5522e-06 - val_mse: 3.5522e-06 - val_mae: 0.0013\n",
      "Epoch 85/100\n",
      "1580/1580 [==============================] - 0s 154us/sample - loss: 3.7549e-06 - mse: 3.7549e-06 - mae: 0.0014 - val_loss: 3.1081e-06 - val_mse: 3.1081e-06 - val_mae: 0.0013\n",
      "Epoch 86/100\n",
      "1580/1580 [==============================] - 0s 144us/sample - loss: 2.8724e-06 - mse: 2.8724e-06 - mae: 0.0012 - val_loss: 2.9414e-06 - val_mse: 2.9414e-06 - val_mae: 0.0013\n",
      "Epoch 87/100\n",
      "1580/1580 [==============================] - 0s 148us/sample - loss: 8.8613e-07 - mse: 8.8613e-07 - mae: 7.0675e-04 - val_loss: 6.9686e-07 - val_mse: 6.9686e-07 - val_mae: 5.9934e-04\n",
      "Epoch 88/100\n",
      "1580/1580 [==============================] - 0s 170us/sample - loss: 1.4524e-06 - mse: 1.4524e-06 - mae: 8.6909e-04 - val_loss: 1.0172e-06 - val_mse: 1.0172e-06 - val_mae: 7.1852e-04\n",
      "Epoch 89/100\n",
      "1580/1580 [==============================] - 0s 164us/sample - loss: 9.5614e-07 - mse: 9.5614e-07 - mae: 7.3877e-04 - val_loss: 7.2823e-07 - val_mse: 7.2823e-07 - val_mae: 6.2760e-04\n",
      "Epoch 90/100\n",
      "1580/1580 [==============================] - 0s 170us/sample - loss: 5.7111e-07 - mse: 5.7111e-07 - mae: 5.8365e-04 - val_loss: 7.9250e-07 - val_mse: 7.9250e-07 - val_mae: 6.5384e-04\n",
      "Epoch 91/100\n",
      "1580/1580 [==============================] - 0s 139us/sample - loss: 7.9661e-07 - mse: 7.9661e-07 - mae: 6.8723e-04 - val_loss: 4.7890e-07 - val_mse: 4.7890e-07 - val_mae: 4.5942e-04\n",
      "Epoch 92/100\n",
      "1580/1580 [==============================] - 0s 148us/sample - loss: 1.1632e-06 - mse: 1.1632e-06 - mae: 8.0644e-04 - val_loss: 7.7744e-07 - val_mse: 7.7744e-07 - val_mae: 6.2978e-04\n",
      "Epoch 93/100\n",
      "1580/1580 [==============================] - 0s 163us/sample - loss: 8.5989e-07 - mse: 8.5989e-07 - mae: 7.1070e-04 - val_loss: 1.0558e-06 - val_mse: 1.0558e-06 - val_mae: 8.1676e-04\n",
      "Epoch 94/100\n",
      "1580/1580 [==============================] - 0s 158us/sample - loss: 1.6063e-06 - mse: 1.6063e-06 - mae: 9.4292e-04 - val_loss: 2.0215e-06 - val_mse: 2.0215e-06 - val_mae: 0.0012\n",
      "Epoch 95/100\n",
      "1580/1580 [==============================] - 0s 142us/sample - loss: 1.3091e-06 - mse: 1.3091e-06 - mae: 8.6270e-04 - val_loss: 1.1283e-06 - val_mse: 1.1283e-06 - val_mae: 8.0603e-04\n",
      "Epoch 96/100\n",
      "1580/1580 [==============================] - 0s 147us/sample - loss: 1.7890e-06 - mse: 1.7890e-06 - mae: 9.9420e-04 - val_loss: 2.5576e-06 - val_mse: 2.5576e-06 - val_mae: 0.0012\n",
      "Epoch 97/100\n",
      "1580/1580 [==============================] - 0s 159us/sample - loss: 1.9817e-05 - mse: 1.9817e-05 - mae: 0.0030 - val_loss: 4.8529e-06 - val_mse: 4.8529e-06 - val_mae: 0.0018\n",
      "Epoch 98/100\n",
      "1580/1580 [==============================] - 0s 156us/sample - loss: 3.7184e-06 - mse: 3.7184e-06 - mae: 0.0014 - val_loss: 2.5145e-06 - val_mse: 2.5145e-06 - val_mae: 0.0013\n",
      "Epoch 99/100\n",
      "1580/1580 [==============================] - 0s 138us/sample - loss: 1.2018e-06 - mse: 1.2018e-06 - mae: 7.9530e-04 - val_loss: 1.3096e-06 - val_mse: 1.3096e-06 - val_mae: 8.2168e-04\n",
      "Epoch 100/100\n",
      "1580/1580 [==============================] - 0s 148us/sample - loss: 9.9160e-07 - mse: 9.9160e-07 - mae: 7.2809e-04 - val_loss: 1.1268e-06 - val_mse: 1.1268e-06 - val_mae: 8.3508e-04\n"
     ]
    }
   ],
   "source": [
    "# 1-Layer LSTM\n",
    "inputs = tf.keras.Input(shape=X_train.shape[1:])\n",
    "x = normalizer(inputs)\n",
    "\n",
    "x = LSTM(64, return_sequences=False)(x)\n",
    "\n",
    "output = Dense(1 * N_out, activation='linear')(x)\n",
    "\n",
    "model_2 = tf.keras.Model(inputs, output)\n",
    "history = runModel(model_2)"
   ]
  },
  {
   "cell_type": "code",
   "execution_count": 47,
   "id": "maritime-wilson",
   "metadata": {},
   "outputs": [
    {
     "data": {
      "image/png": "[encoded data removed]",
      "text/plain": [
       "<Figure size 432x288 with 1 Axes>"
      ]
     },
     "metadata": {
      "needs_background": "light"
     },
     "output_type": "display_data"
    }
   ],
   "source": [
    "# summarize history for mse\n",
    "plt.plot(history.history['mse'])\n",
    "plt.plot(history.history['val_mse'])\n",
    "plt.title('model mse')\n",
    "plt.ylabel('mse')\n",
    "plt.xlabel('epoch')\n",
    "plt.legend(['train', 'validation'], loc='upper left')\n",
    "plt.show()"
   ]
  },
  {
   "cell_type": "code",
   "execution_count": 48,
   "id": "solid-spine",
   "metadata": {},
   "outputs": [
    {
     "data": {
      "image/png": "[encoded data removed]",
      "text/plain": [
       "<Figure size 432x288 with 1 Axes>"
      ]
     },
     "metadata": {
      "needs_background": "light"
     },
     "output_type": "display_data"
    }
   ],
   "source": [
    "# summarize history for mae\n",
    "plt.plot(history.history['mae'])\n",
    "plt.plot(history.history['val_mae'])\n",
    "plt.title('model mae')\n",
    "plt.ylabel('mae')\n",
    "plt.xlabel('epoch')\n",
    "plt.legend(['train', 'validation'], loc='upper left')\n",
    "plt.show()"
   ]
  },
  {
   "cell_type": "code",
   "execution_count": 49,
   "id": "tribal-chase",
   "metadata": {},
   "outputs": [
    {
     "name": "stdout",
     "output_type": "stream",
     "text": [
      "798/798 [==============================] - 0s 65us/sample - loss: 1.1643e-06 - mse: 1.1643e-06 - mae: 8.5998e-04\n"
     ]
    }
   ],
   "source": [
    "#Runing prediction on the test data and output required plot and loss\n",
    "scores_2 = model_2.evaluate(X_test, y_test)"
   ]
  },
  {
   "cell_type": "code",
   "execution_count": 50,
   "id": "personalized-skirt",
   "metadata": {},
   "outputs": [],
   "source": [
    "y_pred_2 = model_2.predict(X_test)"
   ]
  },
  {
   "cell_type": "code",
   "execution_count": 51,
   "id": "functioning-mechanics",
   "metadata": {},
   "outputs": [
    {
     "data": {
      "text/plain": [
       "array([[0.00340869, 0.00187094, 0.00453314, 0.00166988],\n",
       "       [0.00419653, 0.00523957, 0.00702706, 0.0023886 ],\n",
       "       [0.00357645, 0.00542513, 0.00672065, 0.00286548],\n",
       "       ...,\n",
       "       [0.00448753, 0.00394611, 0.00542675, 0.00337865],\n",
       "       [0.00313072, 0.00180351, 0.00454994, 0.00185209],\n",
       "       [0.00302768, 0.00278508, 0.00571694, 0.00324888]], dtype=float32)"
      ]
     },
     "execution_count": 51,
     "metadata": {},
     "output_type": "execute_result"
    }
   ],
   "source": [
    "y_pred_2"
   ]
  },
  {
   "cell_type": "markdown",
   "id": "worthy-shape",
   "metadata": {},
   "source": [
    "# Bi Directional LSTM"
   ]
  },
  {
   "cell_type": "code",
   "execution_count": 52,
   "id": "agreed-wings",
   "metadata": {},
   "outputs": [
    {
     "name": "stdout",
     "output_type": "stream",
     "text": [
      "Model: \"model_5\"\n",
      "_________________________________________________________________\n",
      "Layer (type)                 Output Shape              Param #   \n",
      "=================================================================\n",
      "input_8 (InputLayer)         [(None, 5, 5)]            0         \n",
      "_________________________________________________________________\n",
      "normalization (Normalization (None, 5, 5)              11        \n",
      "_________________________________________________________________\n",
      "bidirectional (Bidirectional (None, 64)                9728      \n",
      "_________________________________________________________________\n",
      "dense_7 (Dense)              (None, 4)                 260       \n",
      "=================================================================\n",
      "Total params: 9,999\n",
      "Trainable params: 9,988\n",
      "Non-trainable params: 11\n",
      "_________________________________________________________________\n",
      "Train on 1580 samples, validate on 279 samples\n",
      "Epoch 1/100\n",
      "1580/1580 [==============================] - 7s 5ms/sample - loss: 0.0076 - mse: 0.0076 - mae: 0.0502 - val_loss: 1.8287e-04 - val_mse: 1.8287e-04 - val_mae: 0.0094\n",
      "Epoch 2/100\n",
      "1580/1580 [==============================] - 0s 185us/sample - loss: 1.1275e-04 - mse: 1.1275e-04 - mae: 0.0072 - val_loss: 4.7121e-05 - val_mse: 4.7121e-05 - val_mae: 0.0048\n",
      "Epoch 3/100\n",
      "1580/1580 [==============================] - 0s 212us/sample - loss: 4.5469e-05 - mse: 4.5469e-05 - mae: 0.0046 - val_loss: 3.4644e-05 - val_mse: 3.4644e-05 - val_mae: 0.0041\n",
      "Epoch 4/100\n",
      "1580/1580 [==============================] - 0s 310us/sample - loss: 3.3905e-05 - mse: 3.3905e-05 - mae: 0.0039 - val_loss: 2.7087e-05 - val_mse: 2.7087e-05 - val_mae: 0.0036\n",
      "Epoch 5/100\n",
      "1580/1580 [==============================] - 0s 309us/sample - loss: 2.6418e-05 - mse: 2.6418e-05 - mae: 0.0034 - val_loss: 2.0413e-05 - val_mse: 2.0413e-05 - val_mae: 0.0031\n",
      "Epoch 6/100\n",
      "1580/1580 [==============================] - 1s 332us/sample - loss: 2.1286e-05 - mse: 2.1286e-05 - mae: 0.0031 - val_loss: 1.7967e-05 - val_mse: 1.7967e-05 - val_mae: 0.0030\n",
      "Epoch 7/100\n",
      "1580/1580 [==============================] - 0s 310us/sample - loss: 1.8790e-05 - mse: 1.8790e-05 - mae: 0.0030 - val_loss: 1.5401e-05 - val_mse: 1.5401e-05 - val_mae: 0.0027\n",
      "Epoch 8/100\n",
      "1580/1580 [==============================] - 0s 269us/sample - loss: 1.4957e-05 - mse: 1.4957e-05 - mae: 0.0026 - val_loss: 1.4361e-05 - val_mse: 1.4361e-05 - val_mae: 0.0027\n",
      "Epoch 9/100\n",
      "1580/1580 [==============================] - 0s 252us/sample - loss: 1.4753e-05 - mse: 1.4753e-05 - mae: 0.0026 - val_loss: 1.1626e-05 - val_mse: 1.1626e-05 - val_mae: 0.0025\n",
      "Epoch 10/100\n",
      "1580/1580 [==============================] - 0s 250us/sample - loss: 1.2387e-05 - mse: 1.2387e-05 - mae: 0.0024 - val_loss: 1.0162e-05 - val_mse: 1.0162e-05 - val_mae: 0.0023\n",
      "Epoch 11/100\n",
      "1580/1580 [==============================] - 0s 223us/sample - loss: 1.0416e-05 - mse: 1.0416e-05 - mae: 0.0022 - val_loss: 9.4676e-06 - val_mse: 9.4676e-06 - val_mae: 0.0023\n",
      "Epoch 12/100\n",
      "1580/1580 [==============================] - 0s 242us/sample - loss: 9.7679e-06 - mse: 9.7679e-06 - mae: 0.0021 - val_loss: 8.8376e-06 - val_mse: 8.8376e-06 - val_mae: 0.0021\n",
      "Epoch 13/100\n",
      "1580/1580 [==============================] - 0s 241us/sample - loss: 9.0473e-06 - mse: 9.0473e-06 - mae: 0.0021 - val_loss: 7.7522e-06 - val_mse: 7.7522e-06 - val_mae: 0.0021\n",
      "Epoch 14/100\n",
      "1580/1580 [==============================] - 0s 213us/sample - loss: 8.3482e-06 - mse: 8.3482e-06 - mae: 0.0020 - val_loss: 7.5373e-06 - val_mse: 7.5373e-06 - val_mae: 0.0020\n",
      "Epoch 15/100\n",
      "1580/1580 [==============================] - 0s 221us/sample - loss: 8.3658e-06 - mse: 8.3658e-06 - mae: 0.0020 - val_loss: 8.1404e-06 - val_mse: 8.1404e-06 - val_mae: 0.0021\n",
      "Epoch 16/100\n",
      "1580/1580 [==============================] - 0s 232us/sample - loss: 7.5350e-06 - mse: 7.5350e-06 - mae: 0.0019 - val_loss: 6.5993e-06 - val_mse: 6.5993e-06 - val_mae: 0.0019\n",
      "Epoch 17/100\n",
      "1580/1580 [==============================] - 0s 224us/sample - loss: 7.1199e-06 - mse: 7.1199e-06 - mae: 0.0018 - val_loss: 6.7474e-06 - val_mse: 6.7474e-06 - val_mae: 0.0019\n",
      "Epoch 18/100\n",
      "1580/1580 [==============================] - 0s 259us/sample - loss: 6.4032e-06 - mse: 6.4032e-06 - mae: 0.0017 - val_loss: 5.1916e-06 - val_mse: 5.1916e-06 - val_mae: 0.0016\n",
      "Epoch 19/100\n",
      "1580/1580 [==============================] - 0s 252us/sample - loss: 6.0973e-06 - mse: 6.0973e-06 - mae: 0.0017 - val_loss: 5.3374e-06 - val_mse: 5.3374e-06 - val_mae: 0.0017\n",
      "Epoch 20/100\n",
      "1580/1580 [==============================] - 0s 233us/sample - loss: 5.6877e-06 - mse: 5.6877e-06 - mae: 0.0016 - val_loss: 4.8908e-06 - val_mse: 4.8908e-06 - val_mae: 0.0016\n",
      "Epoch 21/100\n",
      "1580/1580 [==============================] - 0s 249us/sample - loss: 5.6766e-06 - mse: 5.6766e-06 - mae: 0.0017 - val_loss: 5.3446e-06 - val_mse: 5.3446e-06 - val_mae: 0.0017\n",
      "Epoch 22/100\n",
      "1580/1580 [==============================] - 0s 242us/sample - loss: 5.8634e-06 - mse: 5.8634e-06 - mae: 0.0017 - val_loss: 4.6790e-06 - val_mse: 4.6790e-06 - val_mae: 0.0016\n",
      "Epoch 23/100\n",
      "1580/1580 [==============================] - 0s 245us/sample - loss: 5.1163e-06 - mse: 5.1163e-06 - mae: 0.0016 - val_loss: 5.5421e-06 - val_mse: 5.5421e-06 - val_mae: 0.0017\n",
      "Epoch 24/100\n",
      "1580/1580 [==============================] - 0s 240us/sample - loss: 5.0736e-06 - mse: 5.0736e-06 - mae: 0.0016 - val_loss: 4.8502e-06 - val_mse: 4.8502e-06 - val_mae: 0.0016\n",
      "Epoch 25/100\n",
      "1580/1580 [==============================] - 0s 224us/sample - loss: 4.4057e-06 - mse: 4.4057e-06 - mae: 0.0015 - val_loss: 3.6510e-06 - val_mse: 3.6510e-06 - val_mae: 0.0014\n",
      "Epoch 26/100\n",
      "1580/1580 [==============================] - 1s 380us/sample - loss: 4.3733e-06 - mse: 4.3733e-06 - mae: 0.0015 - val_loss: 4.4961e-06 - val_mse: 4.4961e-06 - val_mae: 0.0016\n",
      "Epoch 27/100\n",
      "1580/1580 [==============================] - 0s 241us/sample - loss: 4.9477e-06 - mse: 4.9477e-06 - mae: 0.0016 - val_loss: 3.8701e-06 - val_mse: 3.8701e-06 - val_mae: 0.0014\n",
      "Epoch 28/100\n",
      "1580/1580 [==============================] - 0s 289us/sample - loss: 3.9464e-06 - mse: 3.9464e-06 - mae: 0.0014 - val_loss: 3.7024e-06 - val_mse: 3.7024e-06 - val_mae: 0.0014\n",
      "Epoch 29/100\n",
      "1580/1580 [==============================] - 0s 274us/sample - loss: 4.0339e-06 - mse: 4.0339e-06 - mae: 0.0014 - val_loss: 4.3133e-06 - val_mse: 4.3133e-06 - val_mae: 0.0015\n",
      "Epoch 30/100\n",
      "1580/1580 [==============================] - 0s 237us/sample - loss: 3.8639e-06 - mse: 3.8639e-06 - mae: 0.0014 - val_loss: 4.1998e-06 - val_mse: 4.1998e-06 - val_mae: 0.0015\n",
      "Epoch 31/100\n",
      "1580/1580 [==============================] - 0s 249us/sample - loss: 4.1029e-06 - mse: 4.1029e-06 - mae: 0.0015 - val_loss: 3.5751e-06 - val_mse: 3.5751e-06 - val_mae: 0.0014\n",
      "Epoch 32/100\n",
      "1580/1580 [==============================] - 0s 251us/sample - loss: 3.9607e-06 - mse: 3.9607e-06 - mae: 0.0014 - val_loss: 3.5465e-06 - val_mse: 3.5465e-06 - val_mae: 0.0014\n",
      "Epoch 33/100\n",
      "1580/1580 [==============================] - 0s 277us/sample - loss: 3.3016e-06 - mse: 3.3016e-06 - mae: 0.0013 - val_loss: 3.4122e-06 - val_mse: 3.4122e-06 - val_mae: 0.0013\n",
      "Epoch 34/100\n",
      "1580/1580 [==============================] - 0s 296us/sample - loss: 3.3159e-06 - mse: 3.3159e-06 - mae: 0.0013 - val_loss: 3.3215e-06 - val_mse: 3.3215e-06 - val_mae: 0.0013\n",
      "Epoch 35/100\n",
      "1580/1580 [==============================] - 0s 244us/sample - loss: 3.3446e-06 - mse: 3.3446e-06 - mae: 0.0013 - val_loss: 2.7265e-06 - val_mse: 2.7265e-06 - val_mae: 0.0012\n",
      "Epoch 36/100\n",
      "1580/1580 [==============================] - 0s 218us/sample - loss: 3.4395e-06 - mse: 3.4395e-06 - mae: 0.0013 - val_loss: 3.7441e-06 - val_mse: 3.7441e-06 - val_mae: 0.0014\n",
      "Epoch 37/100\n",
      "1580/1580 [==============================] - 0s 267us/sample - loss: 2.9118e-06 - mse: 2.9118e-06 - mae: 0.0012 - val_loss: 3.2447e-06 - val_mse: 3.2447e-06 - val_mae: 0.0013\n",
      "Epoch 38/100\n",
      "1580/1580 [==============================] - 1s 356us/sample - loss: 3.2348e-06 - mse: 3.2348e-06 - mae: 0.0013 - val_loss: 2.9137e-06 - val_mse: 2.9137e-06 - val_mae: 0.0013\n",
      "Epoch 39/100\n",
      "1580/1580 [==============================] - 0s 281us/sample - loss: 3.4498e-06 - mse: 3.4498e-06 - mae: 0.0014 - val_loss: 2.7820e-06 - val_mse: 2.7820e-06 - val_mae: 0.0012\n"
     ]
    },
    {
     "name": "stdout",
     "output_type": "stream",
     "text": [
      "Epoch 40/100\n",
      "1580/1580 [==============================] - 0s 228us/sample - loss: 3.3524e-06 - mse: 3.3524e-06 - mae: 0.0013 - val_loss: 3.6201e-06 - val_mse: 3.6201e-06 - val_mae: 0.0014\n",
      "Epoch 41/100\n",
      "1580/1580 [==============================] - 0s 201us/sample - loss: 2.7138e-06 - mse: 2.7138e-06 - mae: 0.0012 - val_loss: 2.6591e-06 - val_mse: 2.6591e-06 - val_mae: 0.0012\n",
      "Epoch 42/100\n",
      "1580/1580 [==============================] - 0s 206us/sample - loss: 3.1264e-06 - mse: 3.1264e-06 - mae: 0.0013 - val_loss: 3.6268e-06 - val_mse: 3.6268e-06 - val_mae: 0.0015\n",
      "Epoch 43/100\n",
      "1580/1580 [==============================] - 0s 225us/sample - loss: 3.3931e-06 - mse: 3.3931e-06 - mae: 0.0014 - val_loss: 2.2199e-06 - val_mse: 2.2199e-06 - val_mae: 0.0011\n",
      "Epoch 44/100\n",
      "1580/1580 [==============================] - 0s 301us/sample - loss: 2.7251e-06 - mse: 2.7251e-06 - mae: 0.0012 - val_loss: 3.4752e-06 - val_mse: 3.4752e-06 - val_mae: 0.0014\n",
      "Epoch 45/100\n",
      "1580/1580 [==============================] - 1s 333us/sample - loss: 2.8700e-06 - mse: 2.8700e-06 - mae: 0.0012 - val_loss: 2.9911e-06 - val_mse: 2.9911e-06 - val_mae: 0.0013\n",
      "Epoch 46/100\n",
      "1580/1580 [==============================] - 0s 287us/sample - loss: 2.5707e-06 - mse: 2.5707e-06 - mae: 0.0012 - val_loss: 3.5258e-06 - val_mse: 3.5258e-06 - val_mae: 0.0014\n",
      "Epoch 47/100\n",
      "1580/1580 [==============================] - 0s 262us/sample - loss: 2.4564e-06 - mse: 2.4564e-06 - mae: 0.0011 - val_loss: 2.5827e-06 - val_mse: 2.5827e-06 - val_mae: 0.0012\n",
      "Epoch 48/100\n",
      "1580/1580 [==============================] - 0s 253us/sample - loss: 2.6416e-06 - mse: 2.6416e-06 - mae: 0.0012 - val_loss: 2.5626e-06 - val_mse: 2.5626e-06 - val_mae: 0.0011\n",
      "Epoch 49/100\n",
      "1580/1580 [==============================] - 0s 212us/sample - loss: 2.8364e-06 - mse: 2.8364e-06 - mae: 0.0013 - val_loss: 3.1237e-06 - val_mse: 3.1237e-06 - val_mae: 0.0013\n",
      "Epoch 50/100\n",
      "1580/1580 [==============================] - 0s 231us/sample - loss: 2.5472e-06 - mse: 2.5472e-06 - mae: 0.0012 - val_loss: 1.9376e-06 - val_mse: 1.9376e-06 - val_mae: 0.0010\n",
      "Epoch 51/100\n",
      "1580/1580 [==============================] - 0s 243us/sample - loss: 2.3465e-06 - mse: 2.3465e-06 - mae: 0.0011 - val_loss: 3.1830e-06 - val_mse: 3.1830e-06 - val_mae: 0.0014\n",
      "Epoch 52/100\n",
      "1580/1580 [==============================] - 0s 211us/sample - loss: 2.4631e-06 - mse: 2.4631e-06 - mae: 0.0012 - val_loss: 2.9503e-06 - val_mse: 2.9503e-06 - val_mae: 0.0013\n",
      "Epoch 53/100\n",
      "1580/1580 [==============================] - 0s 245us/sample - loss: 2.1838e-06 - mse: 2.1838e-06 - mae: 0.0011 - val_loss: 3.2031e-06 - val_mse: 3.2031e-06 - val_mae: 0.0012\n",
      "Epoch 54/100\n",
      "1580/1580 [==============================] - 1s 400us/sample - loss: 2.2744e-06 - mse: 2.2744e-06 - mae: 0.0011 - val_loss: 2.1416e-06 - val_mse: 2.1416e-06 - val_mae: 0.0011\n",
      "Epoch 55/100\n",
      "1580/1580 [==============================] - 0s 292us/sample - loss: 2.2986e-06 - mse: 2.2986e-06 - mae: 0.0011 - val_loss: 1.9433e-06 - val_mse: 1.9433e-06 - val_mae: 0.0010\n",
      "Epoch 56/100\n",
      "1580/1580 [==============================] - 0s 270us/sample - loss: 2.3256e-06 - mse: 2.3256e-06 - mae: 0.0011 - val_loss: 2.5476e-06 - val_mse: 2.5476e-06 - val_mae: 0.0012\n",
      "Epoch 57/100\n",
      "1580/1580 [==============================] - 1s 332us/sample - loss: 2.3216e-06 - mse: 2.3216e-06 - mae: 0.0011 - val_loss: 2.1444e-06 - val_mse: 2.1444e-06 - val_mae: 0.0011\n",
      "Epoch 58/100\n",
      "1580/1580 [==============================] - 1s 340us/sample - loss: 2.3992e-06 - mse: 2.3992e-06 - mae: 0.0012 - val_loss: 2.2591e-06 - val_mse: 2.2591e-06 - val_mae: 0.0010\n",
      "Epoch 59/100\n",
      "1580/1580 [==============================] - 1s 346us/sample - loss: 2.5611e-06 - mse: 2.5611e-06 - mae: 0.0012 - val_loss: 2.0935e-06 - val_mse: 2.0935e-06 - val_mae: 0.0010\n",
      "Epoch 60/100\n",
      "1580/1580 [==============================] - 0s 262us/sample - loss: 2.6345e-06 - mse: 2.6345e-06 - mae: 0.0012 - val_loss: 2.2547e-06 - val_mse: 2.2547e-06 - val_mae: 0.0011\n",
      "Epoch 61/100\n",
      "1580/1580 [==============================] - 1s 328us/sample - loss: 2.2438e-06 - mse: 2.2438e-06 - mae: 0.0011 - val_loss: 1.7490e-06 - val_mse: 1.7490e-06 - val_mae: 9.4818e-04\n",
      "Epoch 62/100\n",
      "1580/1580 [==============================] - 0s 240us/sample - loss: 2.0152e-06 - mse: 2.0152e-06 - mae: 0.0010 - val_loss: 2.1425e-06 - val_mse: 2.1425e-06 - val_mae: 0.0011\n",
      "Epoch 63/100\n",
      "1580/1580 [==============================] - 0s 217us/sample - loss: 2.0280e-06 - mse: 2.0280e-06 - mae: 0.0011 - val_loss: 2.0818e-06 - val_mse: 2.0818e-06 - val_mae: 0.0011\n",
      "Epoch 64/100\n",
      "1580/1580 [==============================] - 0s 268us/sample - loss: 1.8450e-06 - mse: 1.8450e-06 - mae: 0.0010 - val_loss: 2.0854e-06 - val_mse: 2.0854e-06 - val_mae: 0.0011\n",
      "Epoch 65/100\n",
      "1580/1580 [==============================] - 0s 274us/sample - loss: 2.2892e-06 - mse: 2.2892e-06 - mae: 0.0011 - val_loss: 1.8077e-06 - val_mse: 1.8077e-06 - val_mae: 9.5320e-04\n",
      "Epoch 66/100\n",
      "1580/1580 [==============================] - 1s 370us/sample - loss: 1.9151e-06 - mse: 1.9151e-06 - mae: 0.0010 - val_loss: 3.7882e-06 - val_mse: 3.7882e-06 - val_mae: 0.0015\n",
      "Epoch 67/100\n",
      "1580/1580 [==============================] - 1s 345us/sample - loss: 2.1823e-06 - mse: 2.1823e-06 - mae: 0.0011 - val_loss: 2.3446e-06 - val_mse: 2.3446e-06 - val_mae: 0.0011\n",
      "Epoch 68/100\n",
      "1580/1580 [==============================] - 1s 332us/sample - loss: 2.2169e-06 - mse: 2.2169e-06 - mae: 0.0011 - val_loss: 2.3031e-06 - val_mse: 2.3031e-06 - val_mae: 0.0012\n",
      "Epoch 69/100\n",
      "1580/1580 [==============================] - 1s 339us/sample - loss: 2.3588e-06 - mse: 2.3588e-06 - mae: 0.0011 - val_loss: 2.7086e-06 - val_mse: 2.7086e-06 - val_mae: 0.0013\n",
      "Epoch 70/100\n",
      "1580/1580 [==============================] - 1s 317us/sample - loss: 2.2675e-06 - mse: 2.2675e-06 - mae: 0.0011 - val_loss: 2.4504e-06 - val_mse: 2.4504e-06 - val_mae: 0.0012\n",
      "Epoch 71/100\n",
      "1580/1580 [==============================] - 1s 480us/sample - loss: 2.7074e-06 - mse: 2.7074e-06 - mae: 0.0013 - val_loss: 1.9546e-06 - val_mse: 1.9546e-06 - val_mae: 0.0011\n",
      "Epoch 72/100\n",
      "1580/1580 [==============================] - 1s 345us/sample - loss: 1.8777e-06 - mse: 1.8777e-06 - mae: 0.0010 - val_loss: 1.6700e-06 - val_mse: 1.6700e-06 - val_mae: 9.8163e-04\n",
      "Epoch 73/100\n",
      "1580/1580 [==============================] - 1s 393us/sample - loss: 2.6226e-06 - mse: 2.6226e-06 - mae: 0.0012 - val_loss: 3.1085e-06 - val_mse: 3.1085e-06 - val_mae: 0.0014\n",
      "Epoch 74/100\n",
      "1580/1580 [==============================] - 1s 349us/sample - loss: 2.4541e-06 - mse: 2.4541e-06 - mae: 0.0012 - val_loss: 3.1607e-06 - val_mse: 3.1607e-06 - val_mae: 0.0013\n",
      "Epoch 75/100\n",
      "1580/1580 [==============================] - 1s 389us/sample - loss: 2.5896e-06 - mse: 2.5896e-06 - mae: 0.0012 - val_loss: 3.1283e-06 - val_mse: 3.1283e-06 - val_mae: 0.0013\n",
      "Epoch 76/100\n",
      "1580/1580 [==============================] - 0s 258us/sample - loss: 2.5167e-06 - mse: 2.5167e-06 - mae: 0.0012 - val_loss: 1.8304e-06 - val_mse: 1.8304e-06 - val_mae: 9.9981e-04\n",
      "Epoch 77/100\n",
      "1580/1580 [==============================] - 0s 255us/sample - loss: 1.7214e-06 - mse: 1.7214e-06 - mae: 9.8859e-04 - val_loss: 4.5127e-06 - val_mse: 4.5127e-06 - val_mae: 0.0016\n",
      "Epoch 78/100\n",
      "1580/1580 [==============================] - 0s 267us/sample - loss: 3.2592e-06 - mse: 3.2592e-06 - mae: 0.0014 - val_loss: 1.8326e-06 - val_mse: 1.8326e-06 - val_mae: 9.5231e-04\n",
      "Epoch 79/100\n",
      "1580/1580 [==============================] - 0s 223us/sample - loss: 2.7244e-06 - mse: 2.7244e-06 - mae: 0.0013 - val_loss: 3.2490e-06 - val_mse: 3.2490e-06 - val_mae: 0.0014\n",
      "Epoch 80/100\n",
      "1580/1580 [==============================] - 0s 209us/sample - loss: 1.8560e-06 - mse: 1.8560e-06 - mae: 0.0010 - val_loss: 1.3857e-06 - val_mse: 1.3857e-06 - val_mae: 8.3535e-04\n",
      "Epoch 81/100\n",
      "1580/1580 [==============================] - 0s 249us/sample - loss: 2.1484e-06 - mse: 2.1484e-06 - mae: 0.0011 - val_loss: 4.7034e-06 - val_mse: 4.7034e-06 - val_mae: 0.0017\n",
      "Epoch 82/100\n",
      "1580/1580 [==============================] - 1s 370us/sample - loss: 4.5734e-06 - mse: 4.5734e-06 - mae: 0.0016 - val_loss: 3.8746e-06 - val_mse: 3.8746e-06 - val_mae: 0.0015\n",
      "Epoch 83/100\n"
     ]
    },
    {
     "name": "stdout",
     "output_type": "stream",
     "text": [
      "1580/1580 [==============================] - 1s 352us/sample - loss: 2.2118e-06 - mse: 2.2118e-06 - mae: 0.0011 - val_loss: 2.8354e-06 - val_mse: 2.8354e-06 - val_mae: 0.0012\n",
      "Epoch 84/100\n",
      "1580/1580 [==============================] - 0s 283us/sample - loss: 2.7820e-06 - mse: 2.7820e-06 - mae: 0.0013 - val_loss: 4.5546e-06 - val_mse: 4.5546e-06 - val_mae: 0.0017\n",
      "Epoch 85/100\n",
      "1580/1580 [==============================] - 0s 249us/sample - loss: 4.2641e-06 - mse: 4.2641e-06 - mae: 0.0015 - val_loss: 1.5313e-06 - val_mse: 1.5313e-06 - val_mae: 9.0159e-04\n",
      "Epoch 86/100\n",
      "1580/1580 [==============================] - 0s 252us/sample - loss: 1.9905e-06 - mse: 1.9905e-06 - mae: 0.0011 - val_loss: 1.8919e-06 - val_mse: 1.8919e-06 - val_mae: 0.0011\n",
      "Epoch 87/100\n",
      "1580/1580 [==============================] - 0s 221us/sample - loss: 1.7212e-06 - mse: 1.7212e-06 - mae: 0.0010 - val_loss: 1.6006e-06 - val_mse: 1.6006e-06 - val_mae: 9.4874e-04\n",
      "Epoch 88/100\n",
      "1580/1580 [==============================] - 0s 254us/sample - loss: 1.3152e-06 - mse: 1.3152e-06 - mae: 8.7195e-04 - val_loss: 1.9100e-06 - val_mse: 1.9100e-06 - val_mae: 0.0011\n",
      "Epoch 89/100\n",
      "1580/1580 [==============================] - 0s 243us/sample - loss: 2.3740e-06 - mse: 2.3740e-06 - mae: 0.0012 - val_loss: 1.9303e-06 - val_mse: 1.9303e-06 - val_mae: 0.0010\n",
      "Epoch 90/100\n",
      "1580/1580 [==============================] - 0s 221us/sample - loss: 2.4806e-06 - mse: 2.4806e-06 - mae: 0.0012 - val_loss: 1.7429e-06 - val_mse: 1.7429e-06 - val_mae: 9.1043e-04\n",
      "Epoch 91/100\n",
      "1580/1580 [==============================] - 1s 388us/sample - loss: 1.2752e-06 - mse: 1.2752e-06 - mae: 8.4280e-04 - val_loss: 1.8169e-06 - val_mse: 1.8169e-06 - val_mae: 0.0010\n",
      "Epoch 92/100\n",
      "1580/1580 [==============================] - 1s 363us/sample - loss: 1.8808e-06 - mse: 1.8808e-06 - mae: 0.0010 - val_loss: 2.1795e-06 - val_mse: 2.1795e-06 - val_mae: 0.0012\n",
      "Epoch 93/100\n",
      "1580/1580 [==============================] - 0s 260us/sample - loss: 1.8635e-06 - mse: 1.8635e-06 - mae: 0.0010 - val_loss: 2.7789e-06 - val_mse: 2.7789e-06 - val_mae: 0.0013\n",
      "Epoch 94/100\n",
      "1580/1580 [==============================] - 0s 302us/sample - loss: 2.3274e-06 - mse: 2.3274e-06 - mae: 0.0012 - val_loss: 2.1329e-06 - val_mse: 2.1329e-06 - val_mae: 0.0011\n",
      "Epoch 95/100\n",
      "1580/1580 [==============================] - 0s 218us/sample - loss: 1.8911e-06 - mse: 1.8911e-06 - mae: 0.0011 - val_loss: 3.0779e-06 - val_mse: 3.0779e-06 - val_mae: 0.0014\n",
      "Epoch 96/100\n",
      "1580/1580 [==============================] - 0s 225us/sample - loss: 2.1722e-06 - mse: 2.1722e-06 - mae: 0.0011 - val_loss: 1.8473e-06 - val_mse: 1.8473e-06 - val_mae: 0.0011\n",
      "Epoch 97/100\n",
      "1580/1580 [==============================] - 1s 385us/sample - loss: 3.3216e-06 - mse: 3.3216e-06 - mae: 0.0014 - val_loss: 2.3600e-06 - val_mse: 2.3600e-06 - val_mae: 0.0012\n",
      "Epoch 98/100\n",
      "1580/1580 [==============================] - 1s 402us/sample - loss: 2.6080e-06 - mse: 2.6080e-06 - mae: 0.0013 - val_loss: 2.5775e-06 - val_mse: 2.5775e-06 - val_mae: 0.0013\n",
      "Epoch 99/100\n",
      "1580/1580 [==============================] - 1s 384us/sample - loss: 1.9799e-06 - mse: 1.9799e-06 - mae: 0.0011 - val_loss: 2.0674e-06 - val_mse: 2.0674e-06 - val_mae: 0.0011\n",
      "Epoch 100/100\n",
      "1580/1580 [==============================] - 1s 333us/sample - loss: 1.7067e-06 - mse: 1.7067e-06 - mae: 9.8986e-04 - val_loss: 1.8204e-06 - val_mse: 1.8204e-06 - val_mae: 0.0010\n"
     ]
    }
   ],
   "source": [
    "#Bidrectional LSTM\n",
    "inputs = tf.keras.Input(shape=X_train.shape[1:])\n",
    "x = normalizer(inputs)\n",
    "\n",
    "x = Bidirectional(LSTM(32, return_sequences=False))(x)\n",
    "\n",
    "output = Dense(1 * N_out, activation='linear')(x)\n",
    "\n",
    "model_3 = tf.keras.Model(inputs, output)\n",
    "history = runModel(model_3)"
   ]
  },
  {
   "cell_type": "code",
   "execution_count": 53,
   "id": "intelligent-westminster",
   "metadata": {},
   "outputs": [
    {
     "data": {
      "image/png": "[encoded data removed]",
      "text/plain": [
       "<Figure size 432x288 with 1 Axes>"
      ]
     },
     "metadata": {
      "needs_background": "light"
     },
     "output_type": "display_data"
    }
   ],
   "source": [
    "# summarize history for mse\n",
    "plt.plot(history.history['mse'])\n",
    "plt.plot(history.history['val_mse'])\n",
    "plt.title('model mse')\n",
    "plt.ylabel('mse')\n",
    "plt.xlabel('epoch')\n",
    "plt.legend(['train', 'validation'], loc='upper left')\n",
    "plt.show()"
   ]
  },
  {
   "cell_type": "code",
   "execution_count": 54,
   "id": "appropriate-harmony",
   "metadata": {},
   "outputs": [
    {
     "data": {
      "image/png": "[encoded data removed]",
      "text/plain": [
       "<Figure size 432x288 with 1 Axes>"
      ]
     },
     "metadata": {
      "needs_background": "light"
     },
     "output_type": "display_data"
    }
   ],
   "source": [
    "# summarize history for mae\n",
    "plt.plot(history.history['mae'])\n",
    "plt.plot(history.history['val_mae'])\n",
    "plt.title('model mae')\n",
    "plt.ylabel('mae')\n",
    "plt.xlabel('epoch')\n",
    "plt.legend(['train', 'validation'], loc='upper left')\n",
    "plt.show()"
   ]
  },
  {
   "cell_type": "code",
   "execution_count": 55,
   "id": "worthy-outside",
   "metadata": {},
   "outputs": [
    {
     "name": "stdout",
     "output_type": "stream",
     "text": [
      "798/798 [==============================] - 0s 78us/sample - loss: 1.9801e-06 - mse: 1.9801e-06 - mae: 0.0011\n"
     ]
    }
   ],
   "source": [
    "#Runing prediction on the test data and output required plot and loss\n",
    "scores_3 = model_3.evaluate(X_test, y_test)"
   ]
  },
  {
   "cell_type": "code",
   "execution_count": 56,
   "id": "concerned-attack",
   "metadata": {},
   "outputs": [],
   "source": [
    "y_pred_3 = model_3.predict(X_test)"
   ]
  },
  {
   "cell_type": "code",
   "execution_count": 57,
   "id": "charitable-ordinance",
   "metadata": {},
   "outputs": [
    {
     "data": {
      "text/plain": [
       "array([[0.00421349, 0.00094409, 0.00478885, 0.00282801],\n",
       "       [0.00490869, 0.0087274 , 0.00433164, 0.00677028],\n",
       "       [0.00593534, 0.00762753, 0.00580225, 0.00627758],\n",
       "       ...,\n",
       "       [0.00446436, 0.0048858 , 0.00291754, 0.0041301 ],\n",
       "       [0.00364093, 0.00100135, 0.00496948, 0.00269552],\n",
       "       [0.00244528, 0.00147127, 0.00550827, 0.0019547 ]], dtype=float32)"
      ]
     },
     "execution_count": 57,
     "metadata": {},
     "output_type": "execute_result"
    }
   ],
   "source": [
    "y_pred_3"
   ]
  },
  {
   "cell_type": "code",
   "execution_count": null,
   "id": "representative-brain",
   "metadata": {},
   "outputs": [],
   "source": []
  },
  {
   "cell_type": "code",
   "execution_count": null,
   "id": "adjustable-tucson",
   "metadata": {},
   "outputs": [],
   "source": []
  },
  {
   "cell_type": "code",
   "execution_count": null,
   "id": "decent-columbia",
   "metadata": {},
   "outputs": [],
   "source": []
  }
 ],
 "metadata": {
  "kernelspec": {
   "display_name": "Python 3",
   "language": "python",
   "name": "python3"
  },
  "language_info": {
   "codemirror_mode": {
    "name": "ipython",
    "version": 3
   },
   "file_extension": ".py",
   "mimetype": "text/x-python",
   "name": "python",
   "nbconvert_exporter": "python",
   "pygments_lexer": "ipython3",
   "version": "3.7.10"
  }
 },
 "nbformat": 4,
 "nbformat_minor": 5
}
